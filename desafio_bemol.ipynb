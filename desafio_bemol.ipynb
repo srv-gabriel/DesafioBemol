{
 "metadata": {
  "language_info": {
   "codemirror_mode": {
    "name": "ipython",
    "version": 3
   },
   "file_extension": ".py",
   "mimetype": "text/x-python",
   "name": "python",
   "nbconvert_exporter": "python",
   "pygments_lexer": "ipython3",
   "version": "3.8.5-final"
  },
  "orig_nbformat": 2,
  "kernelspec": {
   "name": "Python 3.8.5 64-bit",
   "display_name": "Python 3.8.5 64-bit",
   "metadata": {
    "interpreter": {
     "hash": "767d51c1340bd893661ea55ea3124f6de3c7a262a8b4abca0554b478b1e2ff90"
    }
   }
  }
 },
 "nbformat": 4,
 "nbformat_minor": 2,
 "cells": [
  {
   "cell_type": "code",
   "execution_count": 1,
   "metadata": {},
   "outputs": [],
   "source": [
    "import pandas as pd"
   ]
  },
  {
   "cell_type": "code",
   "execution_count": 75,
   "metadata": {},
   "outputs": [],
   "source": [
    "df_questao_1 = pd.read_csv('questao_1.csv', index_col='num_compra')\n",
    "df_questao_2 = pd.read_csv('questao_2.csv', index_col='Loja')"
   ]
  },
  {
   "cell_type": "markdown",
   "metadata": {},
   "source": [
    "## Primeira Consulta: Quem mais vendeu em tal unidade\n",
    "\n",
    "Devido a certa ambiguidade na consulta solicitada, serão utilizadas duas aborgadens.\n",
    "\n",
    "Abordagem 1: Dada uma unidade como entrada, qual vendedor teve maior número de vendas nela.\n",
    "\n",
    "Abordagem 2: Para cada unidade, qual vendedor teve maior número de vendas.\n",
    "\n",
    "Ideias adicionais:\n",
    "\n",
    "    - Top 5 vendedores por unidade\n",
    "    - Top 5 vendedores por valor de venda"
   ]
  },
  {
   "cell_type": "markdown",
   "metadata": {},
   "source": [
    "### Abordagem 1"
   ]
  },
  {
   "cell_type": "code",
   "execution_count": 104,
   "metadata": {},
   "outputs": [],
   "source": [
    "unidade_consultada = 'Loja Manoa'"
   ]
  },
  {
   "cell_type": "code",
   "execution_count": 105,
   "metadata": {},
   "outputs": [],
   "source": [
    "def top_vendedor_unidade(df, unidade_consultada):\n",
    "    \n",
    "    # Seleciona as instâncias correspondentes à unidade solicitada\n",
    "    df_unidade = df[df['Filial'] == unidade_consultada]\n",
    "\n",
    "    # Extrai o ID dos vendedores\n",
    "    vendedores = df_unidade['usuario'].unique()\n",
    "\n",
    "    # Cria uma lista de tuplas no formato (quantidade de vendas do vendedor, ID do vendedor) e ordeno a lista de forma decrescente com base na quantidade de vendas\n",
    "    rank = sorted([(df_unidade[df_unidade['usuario'] == vendedor].shape[0], vendedor) for vendedor in vendedores], key=lambda x: -x[0])\n",
    "\n",
    "    resultado = {\n",
    "        'Nome' : df_unidade[df_unidade['usuario'] == rank[0][1]]['nome'].unique(),\n",
    "        'Usuário' : rank[0][1],\n",
    "        'Total de Vendas': rank[0][0]\n",
    "    }\n",
    "\n",
    "    # Seleciona as colunas de Nome e Usuario que correspondem ao identificador do vendedor que é o primeiro da lista\n",
    "    df_resultado = pd.DataFrame(resultado)\n",
    "\n",
    "    return df_resultado"
   ]
  },
  {
   "cell_type": "code",
   "execution_count": 106,
   "metadata": {},
   "outputs": [
    {
     "output_type": "execute_result",
     "data": {
      "text/plain": [
       "         Nome  Usuário  Total de Vendas\n",
       "0  Alessandra   465620               93"
      ],
      "text/html": "<div>\n<style scoped>\n    .dataframe tbody tr th:only-of-type {\n        vertical-align: middle;\n    }\n\n    .dataframe tbody tr th {\n        vertical-align: top;\n    }\n\n    .dataframe thead th {\n        text-align: right;\n    }\n</style>\n<table border=\"1\" class=\"dataframe\">\n  <thead>\n    <tr style=\"text-align: right;\">\n      <th></th>\n      <th>Nome</th>\n      <th>Usuário</th>\n      <th>Total de Vendas</th>\n    </tr>\n  </thead>\n  <tbody>\n    <tr>\n      <th>0</th>\n      <td>Alessandra</td>\n      <td>465620</td>\n      <td>93</td>\n    </tr>\n  </tbody>\n</table>\n</div>"
     },
     "metadata": {},
     "execution_count": 106
    }
   ],
   "source": [
    "top_vendedor_unidade(df_questao_1, unidade_consultada)"
   ]
  },
  {
   "cell_type": "markdown",
   "metadata": {},
   "source": [
    "### Abordagem 2"
   ]
  },
  {
   "cell_type": "code",
   "execution_count": 112,
   "metadata": {},
   "outputs": [],
   "source": [
    "def top_vendedores_todas_unidades(df):\n",
    "    unidades = df['Filial'].unique()\n",
    "    vendedores = df['usuario'].unique()\n",
    "    top_vendedores = []\n",
    "    \n",
    "    vendas = []\n",
    "    vendedores_resultado = []\n",
    "\n",
    "    for unidade in unidades:\n",
    "        df_unidade = df[df['Filial'] == unidade]\n",
    "        top_vendedores.append(sorted([(df_unidade[df_unidade['usuario'] == vendedor].shape[0], vendedor) for vendedor in vendedores], key=lambda x: -x[0])[0])\n",
    "        \n",
    "\n",
    "    usuarios = [vendedor[1] for vendedor in top_vendedores]\n",
    "    vendas = [vendedor[0] for vendedor in top_vendedores]\n",
    "    vendedores_resultado = [df[df['usuario'] == vendedor[1]]['nome'].unique()[0] for vendedor in top_vendedores]\n",
    "\n",
    "    resultado = {\n",
    "        'Nome' : vendedores_resultado,\n",
    "        'Usuário' : usuarios,\n",
    "        'Total de Vendas' : vendas,\n",
    "        'Unidade' : unidades\n",
    "    }\n",
    "\n",
    "    df_resultado = pd.DataFrame(resultado)\n",
    "\n",
    "    return df_resultado\n"
   ]
  },
  {
   "cell_type": "code",
   "execution_count": 113,
   "metadata": {
    "tags": []
   },
   "outputs": [
    {
     "output_type": "execute_result",
     "data": {
      "text/plain": [
       "         Nome  Usuário  Total de Vendas              Unidade\n",
       "0      Marina   466205               78  Loja Armando Mendes\n",
       "1  Alessandra   465620               93           Loja Manoa\n",
       "2     Giselle   842680               54     Loja Cachoerinha"
      ],
      "text/html": "<div>\n<style scoped>\n    .dataframe tbody tr th:only-of-type {\n        vertical-align: middle;\n    }\n\n    .dataframe tbody tr th {\n        vertical-align: top;\n    }\n\n    .dataframe thead th {\n        text-align: right;\n    }\n</style>\n<table border=\"1\" class=\"dataframe\">\n  <thead>\n    <tr style=\"text-align: right;\">\n      <th></th>\n      <th>Nome</th>\n      <th>Usuário</th>\n      <th>Total de Vendas</th>\n      <th>Unidade</th>\n    </tr>\n  </thead>\n  <tbody>\n    <tr>\n      <th>0</th>\n      <td>Marina</td>\n      <td>466205</td>\n      <td>78</td>\n      <td>Loja Armando Mendes</td>\n    </tr>\n    <tr>\n      <th>1</th>\n      <td>Alessandra</td>\n      <td>465620</td>\n      <td>93</td>\n      <td>Loja Manoa</td>\n    </tr>\n    <tr>\n      <th>2</th>\n      <td>Giselle</td>\n      <td>842680</td>\n      <td>54</td>\n      <td>Loja Cachoerinha</td>\n    </tr>\n  </tbody>\n</table>\n</div>"
     },
     "metadata": {},
     "execution_count": 113
    }
   ],
   "source": [
    "top_vendedores_todas_unidades(df_questao_1)"
   ]
  },
  {
   "cell_type": "markdown",
   "metadata": {},
   "source": [
    "## Segunda Consulta: venda por vendedor(nome)\n",
    "\n",
    "Abordagem 1: Total de vendas por vendedor. A consulta será feita por nome, porém assumindo que há vendedores com nomes repetidos e que possuem usuários diferentes,\n",
    "será feita uma lista com o total de vendas de cada vendedor com o nome solicitado que possui um usuário diferente.\n",
    "\n",
    "Abordagem 2: Vendas feitas por vendedores com o nome solicitado\n"
   ]
  },
  {
   "cell_type": "code",
   "execution_count": 125,
   "metadata": {},
   "outputs": [],
   "source": [
    "vendedor_procurado = 'Daniel'"
   ]
  },
  {
   "cell_type": "code",
   "execution_count": 126,
   "metadata": {},
   "outputs": [],
   "source": [
    "def consulta_vendedor(df, vendedor_procurado):\n",
    "    vendedores = df[df['nome'] == vendedor_procurado]['usuario'].unique()\n",
    "    vendas_vendedor = [(df[df['usuario'] == vendedor].shape[0], vendedor) for vendedor in vendedores]\n",
    "    total_vendas = [x[0] for x in vendas_vendedor]\n",
    "    vendedor = [x[1] for x in vendas_vendedor]\n",
    "    nome = [vendedor_procurado for x in vendas_vendedor]\n",
    "\n",
    "    dicionario = {\n",
    "        'Total de Vendas' : total_vendas,\n",
    "        'Usuario' : vendedor,\n",
    "        'Nome' : nome \n",
    "    }\n",
    "\n",
    "    df_total_vendas = pd.DataFrame(dicionario)\n",
    "\n",
    "    return df_total_vendas"
   ]
  },
  {
   "cell_type": "code",
   "execution_count": 127,
   "metadata": {},
   "outputs": [
    {
     "output_type": "execute_result",
     "data": {
      "text/plain": [
       "    Total de Vendas  Usuario    Nome\n",
       "0                 3      295  Daniel\n",
       "1                 3    30646  Daniel\n",
       "2                 1    35553  Daniel\n",
       "3                 1    40859  Daniel\n",
       "4                 9    56424  Daniel\n",
       "5                12    66657  Daniel\n",
       "6                 3   114728  Daniel\n",
       "7                 1   139130  Daniel\n",
       "8                 3   219436  Daniel\n",
       "9                 6   285290  Daniel\n",
       "10                6   287073  Daniel\n",
       "11                2   300326  Daniel\n",
       "12                1   597541  Daniel\n",
       "13                1   617967  Daniel\n",
       "14                7   637896  Daniel\n",
       "15               17   654863  Daniel\n",
       "16                1   658588  Daniel\n",
       "17                1   663398  Daniel\n",
       "18                1   686130  Daniel\n",
       "19                8   702315  Daniel\n",
       "20               12   721483  Daniel\n",
       "21                1   731584  Daniel\n",
       "22                2   834414  Daniel\n",
       "23               25   916961  Daniel\n",
       "24                2   929262  Daniel\n",
       "25                2   961503  Daniel"
      ],
      "text/html": "<div>\n<style scoped>\n    .dataframe tbody tr th:only-of-type {\n        vertical-align: middle;\n    }\n\n    .dataframe tbody tr th {\n        vertical-align: top;\n    }\n\n    .dataframe thead th {\n        text-align: right;\n    }\n</style>\n<table border=\"1\" class=\"dataframe\">\n  <thead>\n    <tr style=\"text-align: right;\">\n      <th></th>\n      <th>Total de Vendas</th>\n      <th>Usuario</th>\n      <th>Nome</th>\n    </tr>\n  </thead>\n  <tbody>\n    <tr>\n      <th>0</th>\n      <td>3</td>\n      <td>295</td>\n      <td>Daniel</td>\n    </tr>\n    <tr>\n      <th>1</th>\n      <td>3</td>\n      <td>30646</td>\n      <td>Daniel</td>\n    </tr>\n    <tr>\n      <th>2</th>\n      <td>1</td>\n      <td>35553</td>\n      <td>Daniel</td>\n    </tr>\n    <tr>\n      <th>3</th>\n      <td>1</td>\n      <td>40859</td>\n      <td>Daniel</td>\n    </tr>\n    <tr>\n      <th>4</th>\n      <td>9</td>\n      <td>56424</td>\n      <td>Daniel</td>\n    </tr>\n    <tr>\n      <th>5</th>\n      <td>12</td>\n      <td>66657</td>\n      <td>Daniel</td>\n    </tr>\n    <tr>\n      <th>6</th>\n      <td>3</td>\n      <td>114728</td>\n      <td>Daniel</td>\n    </tr>\n    <tr>\n      <th>7</th>\n      <td>1</td>\n      <td>139130</td>\n      <td>Daniel</td>\n    </tr>\n    <tr>\n      <th>8</th>\n      <td>3</td>\n      <td>219436</td>\n      <td>Daniel</td>\n    </tr>\n    <tr>\n      <th>9</th>\n      <td>6</td>\n      <td>285290</td>\n      <td>Daniel</td>\n    </tr>\n    <tr>\n      <th>10</th>\n      <td>6</td>\n      <td>287073</td>\n      <td>Daniel</td>\n    </tr>\n    <tr>\n      <th>11</th>\n      <td>2</td>\n      <td>300326</td>\n      <td>Daniel</td>\n    </tr>\n    <tr>\n      <th>12</th>\n      <td>1</td>\n      <td>597541</td>\n      <td>Daniel</td>\n    </tr>\n    <tr>\n      <th>13</th>\n      <td>1</td>\n      <td>617967</td>\n      <td>Daniel</td>\n    </tr>\n    <tr>\n      <th>14</th>\n      <td>7</td>\n      <td>637896</td>\n      <td>Daniel</td>\n    </tr>\n    <tr>\n      <th>15</th>\n      <td>17</td>\n      <td>654863</td>\n      <td>Daniel</td>\n    </tr>\n    <tr>\n      <th>16</th>\n      <td>1</td>\n      <td>658588</td>\n      <td>Daniel</td>\n    </tr>\n    <tr>\n      <th>17</th>\n      <td>1</td>\n      <td>663398</td>\n      <td>Daniel</td>\n    </tr>\n    <tr>\n      <th>18</th>\n      <td>1</td>\n      <td>686130</td>\n      <td>Daniel</td>\n    </tr>\n    <tr>\n      <th>19</th>\n      <td>8</td>\n      <td>702315</td>\n      <td>Daniel</td>\n    </tr>\n    <tr>\n      <th>20</th>\n      <td>12</td>\n      <td>721483</td>\n      <td>Daniel</td>\n    </tr>\n    <tr>\n      <th>21</th>\n      <td>1</td>\n      <td>731584</td>\n      <td>Daniel</td>\n    </tr>\n    <tr>\n      <th>22</th>\n      <td>2</td>\n      <td>834414</td>\n      <td>Daniel</td>\n    </tr>\n    <tr>\n      <th>23</th>\n      <td>25</td>\n      <td>916961</td>\n      <td>Daniel</td>\n    </tr>\n    <tr>\n      <th>24</th>\n      <td>2</td>\n      <td>929262</td>\n      <td>Daniel</td>\n    </tr>\n    <tr>\n      <th>25</th>\n      <td>2</td>\n      <td>961503</td>\n      <td>Daniel</td>\n    </tr>\n  </tbody>\n</table>\n</div>"
     },
     "metadata": {},
     "execution_count": 127
    }
   ],
   "source": [
    "consulta_vendedor(df_questao_1, vendedor_procurado)"
   ]
  },
  {
   "cell_type": "code",
   "execution_count": 128,
   "metadata": {},
   "outputs": [],
   "source": [
    "def consulta_vendas_por_vendedor(df, vendedor_procurado):\n",
    "    return df[df['nome'] == vendedor_procurado]"
   ]
  },
  {
   "cell_type": "code",
   "execution_count": 129,
   "metadata": {},
   "outputs": [
    {
     "output_type": "execute_result",
     "data": {
      "text/plain": [
       "            usuario    nome  dados               Filial          data_compra  \\\n",
       "num_compra                                                                     \n",
       "24937847        295  Daniel     12  Loja Armando Mendes  2019-01-06 11:53:01   \n",
       "23600787        295  Daniel     12           Loja Manoa  2019-06-01 17:27:11   \n",
       "24298956        295  Daniel     12           Loja Manoa  2019-06-22 16:40:21   \n",
       "21988407      30646  Daniel     12           Loja Manoa  2019-05-03 20:01:44   \n",
       "25154958      30646  Daniel     12           Loja Manoa  2019-01-10 19:49:02   \n",
       "...             ...     ...    ...                  ...                  ...   \n",
       "22762448     916961  Daniel     12  Loja Armando Mendes  2019-05-19 13:05:01   \n",
       "21852745     929262  Daniel     12           Loja Manoa  2019-05-01 12:14:49   \n",
       "21852840     929262  Daniel     12           Loja Manoa  2019-05-01 12:17:40   \n",
       "22432445     961503  Daniel     12           Loja Manoa  2019-05-12 11:54:01   \n",
       "25883085     961503  Daniel     12           Loja Manoa  2019-01-24 19:01:10   \n",
       "\n",
       "           valor_compra  Imposto Informado sobre imposto?  \n",
       "num_compra                                                 \n",
       "24937847       R$129.12   R$2.60                      Sim  \n",
       "23600787        R$95.96   R$1.94                      Sim  \n",
       "24298956       R$506.05  R$10.21                      Sim  \n",
       "21988407       R$157.21   R$3.17            Não informado  \n",
       "25154958        R$23.46   R$0.47            Não informado  \n",
       "...                 ...      ...                      ...  \n",
       "22762448       R$132.64   R$2.67                      Sim  \n",
       "21852745       R$161.99   R$3.27                      Sim  \n",
       "21852840        R$84.68   R$1.71                      Sim  \n",
       "22432445        R$11.96   R$0.24                      Sim  \n",
       "25883085        R$57.90   R$1.17                      Sim  \n",
       "\n",
       "[131 rows x 8 columns]"
      ],
      "text/html": "<div>\n<style scoped>\n    .dataframe tbody tr th:only-of-type {\n        vertical-align: middle;\n    }\n\n    .dataframe tbody tr th {\n        vertical-align: top;\n    }\n\n    .dataframe thead th {\n        text-align: right;\n    }\n</style>\n<table border=\"1\" class=\"dataframe\">\n  <thead>\n    <tr style=\"text-align: right;\">\n      <th></th>\n      <th>usuario</th>\n      <th>nome</th>\n      <th>dados</th>\n      <th>Filial</th>\n      <th>data_compra</th>\n      <th>valor_compra</th>\n      <th>Imposto</th>\n      <th>Informado sobre imposto?</th>\n    </tr>\n    <tr>\n      <th>num_compra</th>\n      <th></th>\n      <th></th>\n      <th></th>\n      <th></th>\n      <th></th>\n      <th></th>\n      <th></th>\n      <th></th>\n    </tr>\n  </thead>\n  <tbody>\n    <tr>\n      <th>24937847</th>\n      <td>295</td>\n      <td>Daniel</td>\n      <td>12</td>\n      <td>Loja Armando Mendes</td>\n      <td>2019-01-06 11:53:01</td>\n      <td>R$129.12</td>\n      <td>R$2.60</td>\n      <td>Sim</td>\n    </tr>\n    <tr>\n      <th>23600787</th>\n      <td>295</td>\n      <td>Daniel</td>\n      <td>12</td>\n      <td>Loja Manoa</td>\n      <td>2019-06-01 17:27:11</td>\n      <td>R$95.96</td>\n      <td>R$1.94</td>\n      <td>Sim</td>\n    </tr>\n    <tr>\n      <th>24298956</th>\n      <td>295</td>\n      <td>Daniel</td>\n      <td>12</td>\n      <td>Loja Manoa</td>\n      <td>2019-06-22 16:40:21</td>\n      <td>R$506.05</td>\n      <td>R$10.21</td>\n      <td>Sim</td>\n    </tr>\n    <tr>\n      <th>21988407</th>\n      <td>30646</td>\n      <td>Daniel</td>\n      <td>12</td>\n      <td>Loja Manoa</td>\n      <td>2019-05-03 20:01:44</td>\n      <td>R$157.21</td>\n      <td>R$3.17</td>\n      <td>Não informado</td>\n    </tr>\n    <tr>\n      <th>25154958</th>\n      <td>30646</td>\n      <td>Daniel</td>\n      <td>12</td>\n      <td>Loja Manoa</td>\n      <td>2019-01-10 19:49:02</td>\n      <td>R$23.46</td>\n      <td>R$0.47</td>\n      <td>Não informado</td>\n    </tr>\n    <tr>\n      <th>...</th>\n      <td>...</td>\n      <td>...</td>\n      <td>...</td>\n      <td>...</td>\n      <td>...</td>\n      <td>...</td>\n      <td>...</td>\n      <td>...</td>\n    </tr>\n    <tr>\n      <th>22762448</th>\n      <td>916961</td>\n      <td>Daniel</td>\n      <td>12</td>\n      <td>Loja Armando Mendes</td>\n      <td>2019-05-19 13:05:01</td>\n      <td>R$132.64</td>\n      <td>R$2.67</td>\n      <td>Sim</td>\n    </tr>\n    <tr>\n      <th>21852745</th>\n      <td>929262</td>\n      <td>Daniel</td>\n      <td>12</td>\n      <td>Loja Manoa</td>\n      <td>2019-05-01 12:14:49</td>\n      <td>R$161.99</td>\n      <td>R$3.27</td>\n      <td>Sim</td>\n    </tr>\n    <tr>\n      <th>21852840</th>\n      <td>929262</td>\n      <td>Daniel</td>\n      <td>12</td>\n      <td>Loja Manoa</td>\n      <td>2019-05-01 12:17:40</td>\n      <td>R$84.68</td>\n      <td>R$1.71</td>\n      <td>Sim</td>\n    </tr>\n    <tr>\n      <th>22432445</th>\n      <td>961503</td>\n      <td>Daniel</td>\n      <td>12</td>\n      <td>Loja Manoa</td>\n      <td>2019-05-12 11:54:01</td>\n      <td>R$11.96</td>\n      <td>R$0.24</td>\n      <td>Sim</td>\n    </tr>\n    <tr>\n      <th>25883085</th>\n      <td>961503</td>\n      <td>Daniel</td>\n      <td>12</td>\n      <td>Loja Manoa</td>\n      <td>2019-01-24 19:01:10</td>\n      <td>R$57.90</td>\n      <td>R$1.17</td>\n      <td>Sim</td>\n    </tr>\n  </tbody>\n</table>\n<p>131 rows × 8 columns</p>\n</div>"
     },
     "metadata": {},
     "execution_count": 129
    }
   ],
   "source": [
    "consulta_vendas_por_vendedor(df_questao_1, vendedor_procurado)"
   ]
  },
  {
   "cell_type": "markdown",
   "metadata": {},
   "source": [
    "## Terceira Consulta: produto mais vendido\n",
    "\n",
    "Ranking dos produtos mais vendidos, com a quantidade vendida e o valor total vendido"
   ]
  },
  {
   "cell_type": "code",
   "execution_count": 138,
   "metadata": {},
   "outputs": [],
   "source": [
    "def preco_para_int(df):\n",
    "    df['valor_total'] = df['valor_total'].replace('[R\\$\\s]', '', regex=True).astype(float)\n",
    "    return df"
   ]
  },
  {
   "cell_type": "code",
   "execution_count": 139,
   "metadata": {},
   "outputs": [],
   "source": [
    "def top_produtos(df):\n",
    "    produtos = df['produto'].unique()\n",
    "\n",
    "    total_produto = []\n",
    "\n",
    "    for produto in produtos:\n",
    "        total_produto.append((df[df['produto'] == produto]['quantidade'].sum(), \n",
    "                                produto, \n",
    "                                df[df['produto'] == produto]['valor_total'].sum()))\n",
    "\n",
    "    total_produto = sorted(total_produto, key= lambda x: -x[0])\n",
    "\n",
    "    vendas = []\n",
    "    top_produtos = []\n",
    "    valor_total = []\n",
    "\n",
    "    for tup in total_produto:\n",
    "        vendas.append(tup[0])\n",
    "        top_produtos.append(tup[1])\n",
    "        valor_total.append(tup[2])\n",
    "\n",
    "    dic = {\n",
    "        'Produto' : top_produtos,\n",
    "        'Total de Vendas': vendas,\n",
    "        'Valor total' : valor_total\n",
    "    }\n",
    "\n",
    "    df_top_produtos = pd.DataFrame(dic, index=range(1,len(top_produtos)+1))\n",
    "\n",
    "    return df_top_produtos"
   ]
  },
  {
   "cell_type": "code",
   "execution_count": 140,
   "metadata": {},
   "outputs": [
    {
     "output_type": "execute_result",
     "data": {
      "text/plain": [
       "        Produto  Total de Vendas  Valor total\n",
       "1       Açaí 1L              788      7260.93\n",
       "2  Açaí 1L Zero              485      3175.78"
      ],
      "text/html": "<div>\n<style scoped>\n    .dataframe tbody tr th:only-of-type {\n        vertical-align: middle;\n    }\n\n    .dataframe tbody tr th {\n        vertical-align: top;\n    }\n\n    .dataframe thead th {\n        text-align: right;\n    }\n</style>\n<table border=\"1\" class=\"dataframe\">\n  <thead>\n    <tr style=\"text-align: right;\">\n      <th></th>\n      <th>Produto</th>\n      <th>Total de Vendas</th>\n      <th>Valor total</th>\n    </tr>\n  </thead>\n  <tbody>\n    <tr>\n      <th>1</th>\n      <td>Açaí 1L</td>\n      <td>788</td>\n      <td>7260.93</td>\n    </tr>\n    <tr>\n      <th>2</th>\n      <td>Açaí 1L Zero</td>\n      <td>485</td>\n      <td>3175.78</td>\n    </tr>\n  </tbody>\n</table>\n</div>"
     },
     "metadata": {},
     "execution_count": 140
    }
   ],
   "source": [
    "df = preco_para_int(df_questao_2)\n",
    "top_produtos(df)"
   ]
  },
  {
   "cell_type": "code",
   "execution_count": null,
   "metadata": {},
   "outputs": [],
   "source": []
  }
 ]
}