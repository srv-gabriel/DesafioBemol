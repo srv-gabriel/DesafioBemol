{
 "metadata": {
  "language_info": {
   "codemirror_mode": {
    "name": "ipython",
    "version": 3
   },
   "file_extension": ".py",
   "mimetype": "text/x-python",
   "name": "python",
   "nbconvert_exporter": "python",
   "pygments_lexer": "ipython3",
   "version": "3.8.5-final"
  },
  "orig_nbformat": 2,
  "kernelspec": {
   "name": "Python 3.8.5 64-bit",
   "display_name": "Python 3.8.5 64-bit",
   "metadata": {
    "interpreter": {
     "hash": "767d51c1340bd893661ea55ea3124f6de3c7a262a8b4abca0554b478b1e2ff90"
    }
   }
  }
 },
 "nbformat": 4,
 "nbformat_minor": 2,
 "cells": [
  {
   "cell_type": "code",
   "execution_count": 1,
   "metadata": {},
   "outputs": [],
   "source": [
    "import pandas as pd"
   ]
  },
  {
   "cell_type": "code",
   "execution_count": 75,
   "metadata": {},
   "outputs": [],
   "source": [
    "df_questao_1 = pd.read_csv('questao_1.csv', index_col='num_compra')\n",
    "df_questao_2 = pd.read_csv('questao_2.csv', index_col='Loja')"
   ]
  },
  {
   "cell_type": "markdown",
   "metadata": {},
   "source": [
    "## Primeira Consulta: Quem mais vendeu em tal unidade\n",
    "\n",
    "Devido a certa ambiguidade na consulta solicitada, serão utilizadas duas aborgadens.\n",
    "\n",
    "Abordagem 1: Dada uma unidade como entrada, qual vendedor teve maior número de vendas nela.\n",
    "\n",
    "Abordagem 2: Para cada unidade, qual vendedor teve maior número de vendas.\n",
    "\n",
    "Ideias adicionais:\n",
    "\n",
    "    - Top 5 vendedores por unidade\n",
    "    - Top 5 vendedores por valor de venda\n",
    "    - Verificar média de valor de venda por vendedor e fazer boxplot"
   ]
  },
  {
   "cell_type": "markdown",
   "metadata": {},
   "source": [
    "### Abordagem 1"
   ]
  },
  {
   "cell_type": "code",
   "execution_count": 105,
   "metadata": {},
   "outputs": [],
   "source": [
    "def top_vendedor_unidade(df, unidade_consultada):\n",
    "    \"\"\" Função que busca o vendedor com maior número de vendas em determinada unidade e retorna um dataframe com os dados desse vendedor.\n",
    "\n",
    "    Parâmetros\n",
    "    -------------\n",
    "    df : pandas.DataFrame\n",
    "        Dataframe com os dados dos vendedores\n",
    "    \n",
    "    unidade_consultada : str\n",
    "        Unidade a ser consultada à procura de seu melhor vendedor\n",
    "    \n",
    "    Retorna\n",
    "    -------------\n",
    "    df_resultado : pandas.DataFrame\n",
    "        Dataframe com nome, usuário e total de vendas feitas pelo vendedor com maior número de vendas na unidade solicitada.\n",
    "    \"\"\"\n",
    "\n",
    "    # Seleciona as instâncias correspondentes à unidade solicitada\n",
    "    df_unidade = df[df['Filial'] == unidade_consultada]\n",
    "\n",
    "    # Extrai o ID dos vendedores\n",
    "    vendedores = df_unidade['usuario'].unique()\n",
    "\n",
    "    # Cria uma lista de tuplas no formato (quantidade de vendas do vendedor, ID do vendedor) e ordeno a lista de forma decrescente com base na quantidade de vendas\n",
    "    rank = sorted([(df_unidade[df_unidade['usuario'] == vendedor].shape[0], vendedor) for vendedor in vendedores], key=lambda x: -x[0])\n",
    "\n",
    "    resultado = {\n",
    "        'Nome' : df_unidade[df_unidade['usuario'] == rank[0][1]]['nome'].unique(),\n",
    "        'Usuário' : rank[0][1],\n",
    "        'Total de Vendas': rank[0][0]\n",
    "    }\n",
    "\n",
    "    # Seleciona as colunas de Nome e Usuario que correspondem ao identificador do vendedor que é o primeiro da lista\n",
    "    df_resultado = pd.DataFrame(resultado)\n",
    "\n",
    "    return df_resultado"
   ]
  },
  {
   "cell_type": "code",
   "execution_count": 155,
   "metadata": {},
   "outputs": [],
   "source": [
    "# ADICIONE AQUI A UNIDADE QUE DESEJA CONSULTAR\n",
    "unidade_consultada = 'Loja Manoa'"
   ]
  },
  {
   "cell_type": "code",
   "execution_count": 156,
   "metadata": {},
   "outputs": [
    {
     "output_type": "execute_result",
     "data": {
      "text/plain": [
       "         Nome  Usuário  Total de Vendas\n",
       "0  Alessandra   465620               93"
      ],
      "text/html": "<div>\n<style scoped>\n    .dataframe tbody tr th:only-of-type {\n        vertical-align: middle;\n    }\n\n    .dataframe tbody tr th {\n        vertical-align: top;\n    }\n\n    .dataframe thead th {\n        text-align: right;\n    }\n</style>\n<table border=\"1\" class=\"dataframe\">\n  <thead>\n    <tr style=\"text-align: right;\">\n      <th></th>\n      <th>Nome</th>\n      <th>Usuário</th>\n      <th>Total de Vendas</th>\n    </tr>\n  </thead>\n  <tbody>\n    <tr>\n      <th>0</th>\n      <td>Alessandra</td>\n      <td>465620</td>\n      <td>93</td>\n    </tr>\n  </tbody>\n</table>\n</div>"
     },
     "metadata": {},
     "execution_count": 156
    }
   ],
   "source": [
    "top_vendedor_unidade(df_questao_1, unidade_consultada)"
   ]
  },
  {
   "cell_type": "markdown",
   "metadata": {},
   "source": [
    "### Abordagem 2"
   ]
  },
  {
   "cell_type": "code",
   "execution_count": 112,
   "metadata": {},
   "outputs": [],
   "source": [
    "def top_vendedores_todas_unidades(df):\n",
    "    \"\"\" Função que busca o vendedor com maior número de vendas em cada unidade separadamente e retorna um dataframe com os vendedores por unidade.\n",
    "\n",
    "    Parâmetros\n",
    "    -------------\n",
    "    df : pandas.DataFrame\n",
    "        Dataframe com os dados dos vendedores\n",
    "    \n",
    "    Retorna\n",
    "    -------------\n",
    "    df_resultado : pandas.DataFrame\n",
    "        Dataframe com nome, usuário, total de vendas e a unidade de cada vendedor com maior número de vendas por unidade.\n",
    "    \"\"\"\n",
    "\n",
    "    # Extrai as unidade\n",
    "    unidades = df['Filial'].unique()\n",
    "\n",
    "    # Extrai os vendedores\n",
    "    vendedores = df['usuario'].unique()\n",
    "\n",
    "    top_vendedores = []\n",
    "    vendas = []\n",
    "    vendedores_resultado = []\n",
    "\n",
    "    # Para cada unidade extraia o maior vendedor e adiciona em uma lista\n",
    "    for unidade in unidades:\n",
    "        df_unidade = df[df['Filial'] == unidade]\n",
    "        top_vendedores.append(sorted([(df_unidade[df_unidade['usuario'] == vendedor].shape[0], vendedor) for vendedor in vendedores], key=lambda x: -x[0])[0])\n",
    "\n",
    "    # Separa os dados dos vendedores para a criação de um dataframe\n",
    "    usuarios = [vendedor[1] for vendedor in top_vendedores]\n",
    "    vendas = [vendedor[0] for vendedor in top_vendedores]\n",
    "    vendedores_resultado = [df[df['usuario'] == vendedor[1]]['nome'].unique()[0] for vendedor in top_vendedores]\n",
    "\n",
    "    resultado = {\n",
    "        'Nome' : vendedores_resultado,\n",
    "        'Usuário' : usuarios,\n",
    "        'Total de Vendas' : vendas,\n",
    "        'Unidade' : unidades\n",
    "    }\n",
    "\n",
    "    df_resultado = pd.DataFrame(resultado)\n",
    "\n",
    "    return df_resultado\n"
   ]
  },
  {
   "cell_type": "code",
   "execution_count": 113,
   "metadata": {
    "tags": []
   },
   "outputs": [
    {
     "output_type": "execute_result",
     "data": {
      "text/plain": [
       "         Nome  Usuário  Total de Vendas              Unidade\n",
       "0      Marina   466205               78  Loja Armando Mendes\n",
       "1  Alessandra   465620               93           Loja Manoa\n",
       "2     Giselle   842680               54     Loja Cachoerinha"
      ],
      "text/html": "<div>\n<style scoped>\n    .dataframe tbody tr th:only-of-type {\n        vertical-align: middle;\n    }\n\n    .dataframe tbody tr th {\n        vertical-align: top;\n    }\n\n    .dataframe thead th {\n        text-align: right;\n    }\n</style>\n<table border=\"1\" class=\"dataframe\">\n  <thead>\n    <tr style=\"text-align: right;\">\n      <th></th>\n      <th>Nome</th>\n      <th>Usuário</th>\n      <th>Total de Vendas</th>\n      <th>Unidade</th>\n    </tr>\n  </thead>\n  <tbody>\n    <tr>\n      <th>0</th>\n      <td>Marina</td>\n      <td>466205</td>\n      <td>78</td>\n      <td>Loja Armando Mendes</td>\n    </tr>\n    <tr>\n      <th>1</th>\n      <td>Alessandra</td>\n      <td>465620</td>\n      <td>93</td>\n      <td>Loja Manoa</td>\n    </tr>\n    <tr>\n      <th>2</th>\n      <td>Giselle</td>\n      <td>842680</td>\n      <td>54</td>\n      <td>Loja Cachoerinha</td>\n    </tr>\n  </tbody>\n</table>\n</div>"
     },
     "metadata": {},
     "execution_count": 113
    }
   ],
   "source": [
    "top_vendedores_todas_unidades(df_questao_1)"
   ]
  },
  {
   "cell_type": "markdown",
   "metadata": {},
   "source": [
    "## Segunda Consulta: venda por vendedor(nome)\n",
    "\n",
    "Abordagem 1: Total de vendas por vendedor. A consulta será feita por nome, porém assumindo que há vendedores com nomes repetidos e que possuem usuários diferentes,\n",
    "será feita uma lista com o total de vendas de cada vendedor com o nome solicitado que possui um usuário diferente.\n",
    "\n",
    "Abordagem 2: Vendas feitas por vendedores com o nome solicitado\n"
   ]
  },
  {
   "cell_type": "markdown",
   "metadata": {},
   "source": [
    "### Abordagem 1"
   ]
  },
  {
   "cell_type": "code",
   "execution_count": 150,
   "metadata": {},
   "outputs": [],
   "source": [
    "def consulta_vendedor(df, vendedor_procurado):\n",
    "    \"\"\" Função que busca o total de vendas feitas por um vendedor. A busca é feita por nome.\n",
    "\n",
    "    Parâmetros\n",
    "    -------------\n",
    "    df : pandas.DataFrame\n",
    "        Dataframe com os dados dos vendedores\n",
    "    \n",
    "    vendedor_procurado : str\n",
    "        Nome do vendedor a ser procurado\n",
    "    \n",
    "    Retorna\n",
    "    -------------\n",
    "    df_total_vendas : pandas.DataFrame\n",
    "        Dataframe com nome, usuário, total de vendas de todos os vendedores com o nome buscado.\n",
    "    \"\"\"\n",
    "\n",
    "    vendedores = df[df['nome'] == vendedor_procurado]['usuario'].unique()\n",
    "    vendas_vendedor = [(df[df['usuario'] == vendedor].shape[0], vendedor) for vendedor in vendedores]\n",
    "    total_vendas = [x[0] for x in vendas_vendedor]\n",
    "    vendedor = [x[1] for x in vendas_vendedor]\n",
    "    nome = [vendedor_procurado for x in vendas_vendedor]\n",
    "\n",
    "    dicionario = {\n",
    "        'Usuario' : vendedor,\n",
    "        'Nome' : nome ,\n",
    "        'Total de Vendas' : total_vendas\n",
    "        \n",
    "    }\n",
    "\n",
    "    df_total_vendas = pd.DataFrame(dicionario)\n",
    "\n",
    "    return df_total_vendas"
   ]
  },
  {
   "cell_type": "code",
   "execution_count": 157,
   "metadata": {},
   "outputs": [],
   "source": [
    "# ADICIONE AQUI O VENDEDOR QUE DESEJA PROCURAR\n",
    "vendedor_procurado = 'Daniel'"
   ]
  },
  {
   "cell_type": "code",
   "execution_count": 152,
   "metadata": {},
   "outputs": [
    {
     "output_type": "execute_result",
     "data": {
      "text/plain": [
       "    Usuario    Nome  Total de Vendas\n",
       "0       295  Daniel                3\n",
       "1     30646  Daniel                3\n",
       "2     35553  Daniel                1\n",
       "3     40859  Daniel                1\n",
       "4     56424  Daniel                9\n",
       "5     66657  Daniel               12\n",
       "6    114728  Daniel                3\n",
       "7    139130  Daniel                1\n",
       "8    219436  Daniel                3\n",
       "9    285290  Daniel                6\n",
       "10   287073  Daniel                6\n",
       "11   300326  Daniel                2\n",
       "12   597541  Daniel                1\n",
       "13   617967  Daniel                1\n",
       "14   637896  Daniel                7\n",
       "15   654863  Daniel               17\n",
       "16   658588  Daniel                1\n",
       "17   663398  Daniel                1\n",
       "18   686130  Daniel                1\n",
       "19   702315  Daniel                8\n",
       "20   721483  Daniel               12\n",
       "21   731584  Daniel                1\n",
       "22   834414  Daniel                2\n",
       "23   916961  Daniel               25\n",
       "24   929262  Daniel                2\n",
       "25   961503  Daniel                2"
      ],
      "text/html": "<div>\n<style scoped>\n    .dataframe tbody tr th:only-of-type {\n        vertical-align: middle;\n    }\n\n    .dataframe tbody tr th {\n        vertical-align: top;\n    }\n\n    .dataframe thead th {\n        text-align: right;\n    }\n</style>\n<table border=\"1\" class=\"dataframe\">\n  <thead>\n    <tr style=\"text-align: right;\">\n      <th></th>\n      <th>Usuario</th>\n      <th>Nome</th>\n      <th>Total de Vendas</th>\n    </tr>\n  </thead>\n  <tbody>\n    <tr>\n      <th>0</th>\n      <td>295</td>\n      <td>Daniel</td>\n      <td>3</td>\n    </tr>\n    <tr>\n      <th>1</th>\n      <td>30646</td>\n      <td>Daniel</td>\n      <td>3</td>\n    </tr>\n    <tr>\n      <th>2</th>\n      <td>35553</td>\n      <td>Daniel</td>\n      <td>1</td>\n    </tr>\n    <tr>\n      <th>3</th>\n      <td>40859</td>\n      <td>Daniel</td>\n      <td>1</td>\n    </tr>\n    <tr>\n      <th>4</th>\n      <td>56424</td>\n      <td>Daniel</td>\n      <td>9</td>\n    </tr>\n    <tr>\n      <th>5</th>\n      <td>66657</td>\n      <td>Daniel</td>\n      <td>12</td>\n    </tr>\n    <tr>\n      <th>6</th>\n      <td>114728</td>\n      <td>Daniel</td>\n      <td>3</td>\n    </tr>\n    <tr>\n      <th>7</th>\n      <td>139130</td>\n      <td>Daniel</td>\n      <td>1</td>\n    </tr>\n    <tr>\n      <th>8</th>\n      <td>219436</td>\n      <td>Daniel</td>\n      <td>3</td>\n    </tr>\n    <tr>\n      <th>9</th>\n      <td>285290</td>\n      <td>Daniel</td>\n      <td>6</td>\n    </tr>\n    <tr>\n      <th>10</th>\n      <td>287073</td>\n      <td>Daniel</td>\n      <td>6</td>\n    </tr>\n    <tr>\n      <th>11</th>\n      <td>300326</td>\n      <td>Daniel</td>\n      <td>2</td>\n    </tr>\n    <tr>\n      <th>12</th>\n      <td>597541</td>\n      <td>Daniel</td>\n      <td>1</td>\n    </tr>\n    <tr>\n      <th>13</th>\n      <td>617967</td>\n      <td>Daniel</td>\n      <td>1</td>\n    </tr>\n    <tr>\n      <th>14</th>\n      <td>637896</td>\n      <td>Daniel</td>\n      <td>7</td>\n    </tr>\n    <tr>\n      <th>15</th>\n      <td>654863</td>\n      <td>Daniel</td>\n      <td>17</td>\n    </tr>\n    <tr>\n      <th>16</th>\n      <td>658588</td>\n      <td>Daniel</td>\n      <td>1</td>\n    </tr>\n    <tr>\n      <th>17</th>\n      <td>663398</td>\n      <td>Daniel</td>\n      <td>1</td>\n    </tr>\n    <tr>\n      <th>18</th>\n      <td>686130</td>\n      <td>Daniel</td>\n      <td>1</td>\n    </tr>\n    <tr>\n      <th>19</th>\n      <td>702315</td>\n      <td>Daniel</td>\n      <td>8</td>\n    </tr>\n    <tr>\n      <th>20</th>\n      <td>721483</td>\n      <td>Daniel</td>\n      <td>12</td>\n    </tr>\n    <tr>\n      <th>21</th>\n      <td>731584</td>\n      <td>Daniel</td>\n      <td>1</td>\n    </tr>\n    <tr>\n      <th>22</th>\n      <td>834414</td>\n      <td>Daniel</td>\n      <td>2</td>\n    </tr>\n    <tr>\n      <th>23</th>\n      <td>916961</td>\n      <td>Daniel</td>\n      <td>25</td>\n    </tr>\n    <tr>\n      <th>24</th>\n      <td>929262</td>\n      <td>Daniel</td>\n      <td>2</td>\n    </tr>\n    <tr>\n      <th>25</th>\n      <td>961503</td>\n      <td>Daniel</td>\n      <td>2</td>\n    </tr>\n  </tbody>\n</table>\n</div>"
     },
     "metadata": {},
     "execution_count": 152
    }
   ],
   "source": [
    "consulta_vendedor(df_questao_1, vendedor_procurado)"
   ]
  },
  {
   "cell_type": "markdown",
   "metadata": {},
   "source": [
    "### Abordagem 2"
   ]
  },
  {
   "cell_type": "code",
   "execution_count": 143,
   "metadata": {},
   "outputs": [],
   "source": [
    "def consulta_vendas_por_vendedor(df, vendedor_procurado):\n",
    "    \"\"\" Função retorna todas as vendas executadas por vendedores que possuem o nome igual a vendedor_procurado.\n",
    "\n",
    "    Parâmetros\n",
    "    -------------\n",
    "    df : pandas.DataFrame\n",
    "        Dataframe com os dados dos vendedores\n",
    "    \n",
    "    vendedor_procurado : str\n",
    "        Nome do vendedor a ser procurado\n",
    "    \n",
    "    Retorna\n",
    "    -------------\n",
    "    pandas.DataFrame\n",
    "        Dataframe com todas as vendas executadas pelos vendedores com nome igual a vendedor_procurado.\n",
    "    \"\"\"\n",
    "\n",
    "    return df[df['nome'] == vendedor_procurado]"
   ]
  },
  {
   "cell_type": "code",
   "execution_count": 158,
   "metadata": {},
   "outputs": [],
   "source": [
    "# ADICIONE AQUI O VENDEDOR QUE DESEJA PROCURAR\n",
    "vendedor_procurado = 'Simone'"
   ]
  },
  {
   "cell_type": "code",
   "execution_count": 146,
   "metadata": {},
   "outputs": [
    {
     "output_type": "execute_result",
     "data": {
      "text/plain": [
       "            usuario    nome  dados            Filial          data_compra  \\\n",
       "num_compra                                                                  \n",
       "24271713     475023  Simone     12        Loja Manoa  2019-06-21 21:22:19   \n",
       "24717114     475023  Simone     12        Loja Manoa  2019-01-01 18:53:15   \n",
       "24717268     475023  Simone     12        Loja Manoa  2019-01-01 18:55:19   \n",
       "24787051     642267  Simone     12        Loja Manoa  2019-01-03 12:27:04   \n",
       "21859088     690423  Simone     12  Loja Cachoerinha  2019-05-01 14:01:55   \n",
       "\n",
       "           valor_compra  Imposto Informado sobre imposto?  \n",
       "num_compra                                                 \n",
       "24271713       R$113.90   R$2.30                      Sim  \n",
       "24717114        R$49.19   R$0.99                      Sim  \n",
       "24717268       R$135.74   R$2.74                      Sim  \n",
       "24787051       R$561.98  R$11.33                      Sim  \n",
       "21859088       R$139.60   R$2.82                      Sim  "
      ],
      "text/html": "<div>\n<style scoped>\n    .dataframe tbody tr th:only-of-type {\n        vertical-align: middle;\n    }\n\n    .dataframe tbody tr th {\n        vertical-align: top;\n    }\n\n    .dataframe thead th {\n        text-align: right;\n    }\n</style>\n<table border=\"1\" class=\"dataframe\">\n  <thead>\n    <tr style=\"text-align: right;\">\n      <th></th>\n      <th>usuario</th>\n      <th>nome</th>\n      <th>dados</th>\n      <th>Filial</th>\n      <th>data_compra</th>\n      <th>valor_compra</th>\n      <th>Imposto</th>\n      <th>Informado sobre imposto?</th>\n    </tr>\n    <tr>\n      <th>num_compra</th>\n      <th></th>\n      <th></th>\n      <th></th>\n      <th></th>\n      <th></th>\n      <th></th>\n      <th></th>\n      <th></th>\n    </tr>\n  </thead>\n  <tbody>\n    <tr>\n      <th>24271713</th>\n      <td>475023</td>\n      <td>Simone</td>\n      <td>12</td>\n      <td>Loja Manoa</td>\n      <td>2019-06-21 21:22:19</td>\n      <td>R$113.90</td>\n      <td>R$2.30</td>\n      <td>Sim</td>\n    </tr>\n    <tr>\n      <th>24717114</th>\n      <td>475023</td>\n      <td>Simone</td>\n      <td>12</td>\n      <td>Loja Manoa</td>\n      <td>2019-01-01 18:53:15</td>\n      <td>R$49.19</td>\n      <td>R$0.99</td>\n      <td>Sim</td>\n    </tr>\n    <tr>\n      <th>24717268</th>\n      <td>475023</td>\n      <td>Simone</td>\n      <td>12</td>\n      <td>Loja Manoa</td>\n      <td>2019-01-01 18:55:19</td>\n      <td>R$135.74</td>\n      <td>R$2.74</td>\n      <td>Sim</td>\n    </tr>\n    <tr>\n      <th>24787051</th>\n      <td>642267</td>\n      <td>Simone</td>\n      <td>12</td>\n      <td>Loja Manoa</td>\n      <td>2019-01-03 12:27:04</td>\n      <td>R$561.98</td>\n      <td>R$11.33</td>\n      <td>Sim</td>\n    </tr>\n    <tr>\n      <th>21859088</th>\n      <td>690423</td>\n      <td>Simone</td>\n      <td>12</td>\n      <td>Loja Cachoerinha</td>\n      <td>2019-05-01 14:01:55</td>\n      <td>R$139.60</td>\n      <td>R$2.82</td>\n      <td>Sim</td>\n    </tr>\n  </tbody>\n</table>\n</div>"
     },
     "metadata": {},
     "execution_count": 146
    }
   ],
   "source": [
    "consulta_vendas_por_vendedor(df_questao_1, vendedor_procurado)"
   ]
  },
  {
   "cell_type": "markdown",
   "metadata": {},
   "source": [
    "## Terceira Consulta: produto mais vendido\n",
    "\n",
    "Ranking dos produtos mais vendidos, com a quantidade vendida e o valor total vendido"
   ]
  },
  {
   "cell_type": "code",
   "execution_count": 147,
   "metadata": {},
   "outputs": [],
   "source": [
    "def preco_para_int(df, coluna):\n",
    "    \"\"\" Função que transforma uma coluna que possui preços com os caractéres 'R$' em uma coluna de inteiros.\n",
    "\n",
    "    Parâmetros\n",
    "    -------------\n",
    "    df : pandas.DataFrame\n",
    "        Dataframe com a coluna de preços\n",
    "    \n",
    "    coluna : str\n",
    "        Coluna a ser modificada\n",
    "    \n",
    "    Retorna\n",
    "    -------------\n",
    "    df : pandas.DataFrame\n",
    "        Dataframe com a coluna de preços em formato int.\n",
    "    \"\"\"\n",
    "\n",
    "    df[coluna] = df[coluna].replace('[R\\$\\s]', '', regex=True).astype(float)\n",
    "    return df"
   ]
  },
  {
   "cell_type": "code",
   "execution_count": 153,
   "metadata": {},
   "outputs": [],
   "source": [
    "def top_produtos(df):\n",
    "    \"\"\" Função que retorna um ranking com os produtos mais vendidos no conjunto de dados.\n",
    "\n",
    "    Parâmetros\n",
    "    -------------\n",
    "    df : pandas.DataFrame\n",
    "        Dataframe com os dados dos produtos vendidos\n",
    "    \n",
    "    Retorna\n",
    "    -------------\n",
    "    df_top_produtos : pandas.DataFrame\n",
    "        Dataframe ranking dos produtos mais vendidos.\n",
    "    \"\"\"\n",
    "\n",
    "    produtos = df['produto'].unique()\n",
    "\n",
    "    total_produto = []\n",
    "\n",
    "    for produto in produtos:\n",
    "        total_produto.append((df[df['produto'] == produto]['quantidade'].sum(), \n",
    "                                produto, \n",
    "                                df[df['produto'] == produto]['valor_total'].sum()))\n",
    "\n",
    "    total_produto = sorted(total_produto, key= lambda x: -x[0])\n",
    "\n",
    "    vendas = []\n",
    "    top_produtos = []\n",
    "    valor_total = []\n",
    "\n",
    "    for tup in total_produto:\n",
    "        vendas.append(tup[0])\n",
    "        top_produtos.append(tup[1])\n",
    "        valor_total.append(tup[2])\n",
    "\n",
    "    dic = {\n",
    "        'Produto' : top_produtos,\n",
    "        'Total de Vendas': vendas,\n",
    "        'Valor total' : valor_total\n",
    "    }\n",
    "\n",
    "    df_top_produtos = pd.DataFrame(dic, index=range(1,len(top_produtos)+1))\n",
    "\n",
    "    return df_top_produtos"
   ]
  },
  {
   "cell_type": "code",
   "execution_count": 154,
   "metadata": {},
   "outputs": [
    {
     "output_type": "execute_result",
     "data": {
      "text/plain": [
       "        Produto  Total de Vendas  Valor total\n",
       "1       Açaí 1L              788      7260.93\n",
       "2  Açaí 1L Zero              485      3175.78"
      ],
      "text/html": "<div>\n<style scoped>\n    .dataframe tbody tr th:only-of-type {\n        vertical-align: middle;\n    }\n\n    .dataframe tbody tr th {\n        vertical-align: top;\n    }\n\n    .dataframe thead th {\n        text-align: right;\n    }\n</style>\n<table border=\"1\" class=\"dataframe\">\n  <thead>\n    <tr style=\"text-align: right;\">\n      <th></th>\n      <th>Produto</th>\n      <th>Total de Vendas</th>\n      <th>Valor total</th>\n    </tr>\n  </thead>\n  <tbody>\n    <tr>\n      <th>1</th>\n      <td>Açaí 1L</td>\n      <td>788</td>\n      <td>7260.93</td>\n    </tr>\n    <tr>\n      <th>2</th>\n      <td>Açaí 1L Zero</td>\n      <td>485</td>\n      <td>3175.78</td>\n    </tr>\n  </tbody>\n</table>\n</div>"
     },
     "metadata": {},
     "execution_count": 154
    }
   ],
   "source": [
    "df = preco_para_int(df_questao_2, 'valor_total')\n",
    "top_produtos(df)"
   ]
  },
  {
   "cell_type": "code",
   "execution_count": null,
   "metadata": {},
   "outputs": [],
   "source": []
  }
 ]
}