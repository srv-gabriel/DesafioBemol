{
 "cells": [
  {
   "cell_type": "markdown",
   "metadata": {},
   "source": [
    "<p align=\"center\">\n",
    "  <img width=300px height=180px src=\"https://cartao.bemol.com.br/assets/img/logos/bemol.png\">\n",
    "\n",
    "  <h1 style=\"font-size:40px; color: #00A5F9\" align=\"center\">Desafio Bemol</h1>\n",
    "  <h2 align=\"center\">Assistente de Projetos</h2> \n",
    "</p>\n",
    "\n",
    "<hr></hr>"
   ]
  },
  {
   "cell_type": "markdown",
   "metadata": {},
   "source": [
    "<h2>Bibliotecas Utilizadas</h2>\n",
    "<ul>\n",
    "    <li style=\"font-size: 18px\">Pandas</li>\n",
    "    <li style=\"font-size: 18px\">Seaborn</li>\n",
    "    <li style=\"font-size: 18px\">Matplotlib</li>\n",
    "</ul>"
   ]
  },
  {
   "cell_type": "code",
   "execution_count": null,
   "metadata": {},
   "outputs": [],
   "source": [
    "import pandas as pd\n",
    "import seaborn as sns\n",
    "import matplotlib.pyplot as plt"
   ]
  },
  {
   "source": [
    "<h2>Interpretação dos dados</h2>\n",
    "\n",
    "Devido ao fato de os atributos do conjunto de dados não possuírem descrição das suas funções, alguns pontos sobre as funções dos atributos foram assumidas.\n",
    "\n",
    "Assumimos que cada vendedor possui um identificador de usuário único (coluna _usuario_ no dataset) e que vendedores podem ter nomes repetidos. Essa Interpretação influencia diretamente grande parte das consultas desenvolvidas nesse notebook, nas quais, quando envolvendo vendedores, estes são buscados através do seu identificador único de usuário. Como no caso da consulta [Venda por vendedor](#consulta_2) é explicitamente solicitada a busca por nome, assumimos que há mais de um vendedor com o mesmo nome devido à existência de um mesmo nome para diferentes identificadores de usuário, logo buscamos as vendas de todos os vendedores que possuem o nome solicitado."
   ],
   "cell_type": "markdown",
   "metadata": {}
  },
  {
   "cell_type": "markdown",
   "metadata": {},
   "source": [
    "<h2>Como utilizar</h2>\n",
    "<p>\n",
    "Para executar este notebook sem falhas é bastante simples: <br>\n",
    "\n",
    "Caso não tenha sido clonado o repositório do GitHub que contém este projeto (Link abaixo), basta definir o caminho para os conjuntos de dados da questão<br>\n",
    "um e dois nas variáveis da célula a seguir. Na variável path_questao_1 defina o caminho para o conjunto de dados da questão 1 e na variável path_questao_2<br>\n",
    "defina o caminho para o conjunto de dados da questão 2\n",
    "\n",
    "Caso o repositório do GitHub tenha sido clonado, basta apenas executar as células normalmente\n",
    "</p>\n",
    "\n",
    "<a href=\"https://github.com/srv-gabriel/DesafioBemol\">Link para o GitHub</a>"
   ]
  },
  {
   "cell_type": "code",
   "execution_count": null,
   "metadata": {},
   "outputs": [],
   "source": [
    "path_questao_1 = 'questao_1.csv'\n",
    "path_questao_2 = 'questao_2.csv'"
   ]
  },
  {
   "cell_type": "code",
   "execution_count": null,
   "metadata": {},
   "outputs": [],
   "source": [
    "df_questao_1 = pd.read_csv(path_questao_1, index_col='num_compra')\n",
    "df_questao_2 = pd.read_csv(path_questao_2, index_col='Loja')"
   ]
  },
  {
   "cell_type": "markdown",
   "metadata": {},
   "source": [
    "<h1>Sumário</h1>\n",
    "\n",
    "<h3>Consultas Obrigatórias</h3>\n",
    "\n",
    "- [Quem mais vendeu em determinada unidade](#consulta_1)\n",
    "- [Venda por vendedor](#consulta_2)\n",
    "- [Produto mais vendido](#consulta_3)\n",
    "\n",
    "<h3>Consultas Adicionais</h3>\n",
    "\n",
    "- [Top 5 vendedores por unidade](#consulta_4)\n",
    "- [Média de preço de venda por vendedor](#consulta_5)\n",
    "- [Total vendido por dia por vendedor](#consulta_6)\n",
    "- [Vendas por unidade](#consulta_7)\n"
   ]
  },
  {
   "cell_type": "markdown",
   "metadata": {},
   "source": [
    " <a id=\"consulta_1\"></a>\n",
    "## Primeira Consulta: Quem mais vendeu em determinada unidade\n",
    "\n",
    "Devido a certa ambiguidade na consulta solicitada, serão utilizadas duas aborgadens.\n",
    "\n",
    "Abordagem 1: Dada uma unidade como entrada, qual vendedor teve maior número de vendas nela.\n",
    "\n",
    "Abordagem 2: Para cada unidade, qual vendedor teve maior número de vendas."
   ]
  },
  {
   "cell_type": "markdown",
   "metadata": {},
   "source": [
    "<h3 style=\"font-size:20px\">Abordagem 1</h3>"
   ]
  },
  {
   "cell_type": "code",
   "execution_count": null,
   "metadata": {},
   "outputs": [],
   "source": [
    "def top_vendedor_unidade(df, unidade_consultada):\n",
    "    \"\"\" Função que busca o vendedor com maior número de vendas em determinada unidade e retorna um dataframe com os dados desse vendedor.\n",
    "\n",
    "    Parâmetros\n",
    "    -------------\n",
    "    df : pandas.DataFrame\n",
    "        Dataframe com os dados dos vendedores\n",
    "    \n",
    "    unidade_consultada : str\n",
    "        Unidade a ser consultada à procura de seu melhor vendedor\n",
    "    \n",
    "    Retorna\n",
    "    -------------\n",
    "    df_resultado : pandas.DataFrame\n",
    "        Dataframe com nome, usuário e total de vendas feitas pelo vendedor com maior número de vendas na unidade solicitada.\n",
    "    \"\"\"\n",
    "\n",
    "    # Seleciona as instâncias correspondentes à unidade solicitada\n",
    "    df_unidade = df[df['Filial'] == unidade_consultada]\n",
    "\n",
    "    # Extrai o ID dos vendedores\n",
    "    vendedores = df_unidade['usuario'].unique()\n",
    "\n",
    "    # Cria uma lista de tuplas no formato (quantidade de vendas do vendedor, ID do vendedor) e ordeno a lista de forma decrescente com base na quantidade de vendas\n",
    "    rank = sorted([(df_unidade[df_unidade['usuario'] == vendedor].shape[0], vendedor) for vendedor in vendedores], key=lambda x: -x[0])\n",
    "\n",
    "    resultado = {\n",
    "        'Nome' : df_unidade[df_unidade['usuario'] == rank[0][1]]['nome'].unique(),\n",
    "        'Usuário' : rank[0][1],\n",
    "        'Total de Vendas': rank[0][0]\n",
    "    }\n",
    "\n",
    "    # Seleciona as colunas de Nome e Usuario que correspondem ao identificador do vendedor que é o primeiro da lista\n",
    "    df_resultado = pd.DataFrame(resultado)\n",
    "\n",
    "    return df_resultado"
   ]
  },
  {
   "cell_type": "code",
   "execution_count": null,
   "metadata": {},
   "outputs": [],
   "source": [
    "# ADICIONE AQUI A UNIDADE QUE DESEJA CONSULTAR\n",
    "unidade_consultada = 'Loja Manoa'"
   ]
  },
  {
   "cell_type": "code",
   "execution_count": null,
   "metadata": {},
   "outputs": [],
   "source": [
    "top_vendedor_unidade(df_questao_1, unidade_consultada)"
   ]
  },
  {
   "cell_type": "markdown",
   "metadata": {},
   "source": [
    "<h3 style=\"font-size:20px\">Abordagem 2</h3>"
   ]
  },
  {
   "cell_type": "code",
   "execution_count": null,
   "metadata": {},
   "outputs": [],
   "source": [
    "def top_vendedores_todas_unidades(df):\n",
    "    \"\"\" Função que busca o vendedor com maior número de vendas em cada unidade separadamente e retorna um dataframe com os vendedores por unidade.\n",
    "\n",
    "    Parâmetros\n",
    "    -------------\n",
    "    df : pandas.DataFrame\n",
    "        Dataframe com os dados dos vendedores\n",
    "    \n",
    "    Retorna\n",
    "    -------------\n",
    "    df_resultado : pandas.DataFrame\n",
    "        Dataframe com nome, usuário, total de vendas e a unidade de cada vendedor com maior número de vendas por unidade.\n",
    "    \"\"\"\n",
    "\n",
    "    # Extrai as unidade\n",
    "    unidades = df['Filial'].unique()\n",
    "\n",
    "    # Extrai os vendedores\n",
    "    vendedores = df['usuario'].unique()\n",
    "\n",
    "    top_vendedores = []\n",
    "    vendas = []\n",
    "    vendedores_resultado = []\n",
    "\n",
    "    # Para cada unidade extraia o maior vendedor e adiciona em uma lista\n",
    "    for unidade in unidades:\n",
    "        df_unidade = df[df['Filial'] == unidade]\n",
    "        top_vendedores.append(sorted([(df_unidade[df_unidade['usuario'] == vendedor].shape[0], vendedor) for vendedor in vendedores], key=lambda x: -x[0])[0])\n",
    "\n",
    "    # Separa os dados dos vendedores para a criação de um dataframe\n",
    "    usuarios = [vendedor[1] for vendedor in top_vendedores]\n",
    "    vendas = [vendedor[0] for vendedor in top_vendedores]\n",
    "    vendedores_resultado = [df[df['usuario'] == vendedor[1]]['nome'].unique()[0] for vendedor in top_vendedores]\n",
    "\n",
    "    resultado = {\n",
    "        'Nome' : vendedores_resultado,\n",
    "        'Usuário' : usuarios,\n",
    "        'Total de Vendas' : vendas,\n",
    "        'Unidade' : unidades\n",
    "    }\n",
    "\n",
    "    df_resultado = pd.DataFrame(resultado)\n",
    "\n",
    "    return df_resultado\n"
   ]
  },
  {
   "cell_type": "code",
   "execution_count": null,
   "metadata": {
    "tags": []
   },
   "outputs": [],
   "source": [
    "top_vendedores_todas_unidades(df_questao_1)"
   ]
  },
  {
   "cell_type": "markdown",
   "metadata": {},
   "source": [
    " <a id=\"consulta_2\"></a>\n",
    "## Segunda Consulta: venda por vendedor(nome)\n",
    "\n",
    "Abordagem 1: Total de vendas por vendedor. A consulta será feita por nome, porém assumindo que há vendedores com nomes repetidos e que possuem usuários diferentes,\n",
    "será feita uma lista com o total de vendas de cada vendedor com o nome solicitado que possui um usuário diferente.\n",
    "\n",
    "Abordagem 2: Vendas feitas por vendedores com o nome solicitado\n"
   ]
  },
  {
   "cell_type": "markdown",
   "metadata": {},
   "source": [
    "<h3 style=\"font-size:20px\">Abordagem 1</h3>"
   ]
  },
  {
   "cell_type": "code",
   "execution_count": null,
   "metadata": {},
   "outputs": [],
   "source": [
    "def consulta_vendedor(df, vendedor_procurado):\n",
    "    \"\"\" Função que busca o total de vendas feitas por um vendedor. A busca é feita por nome.\n",
    "\n",
    "    Parâmetros\n",
    "    -------------\n",
    "    df : pandas.DataFrame\n",
    "        Dataframe com os dados dos vendedores\n",
    "    \n",
    "    vendedor_procurado : str\n",
    "        Nome do vendedor a ser procurado\n",
    "    \n",
    "    Retorna\n",
    "    -------------\n",
    "    df_total_vendas : pandas.DataFrame\n",
    "        Dataframe com nome, usuário, total de vendas de todos os vendedores com o nome buscado.\n",
    "    \"\"\"\n",
    "\n",
    "    vendedores = df[df['nome'] == vendedor_procurado]['usuario'].unique()\n",
    "    vendas_vendedor = [(df[df['usuario'] == vendedor].shape[0], vendedor) for vendedor in vendedores]\n",
    "    total_vendas = [x[0] for x in vendas_vendedor]\n",
    "    vendedor = [x[1] for x in vendas_vendedor]\n",
    "    nome = [vendedor_procurado for x in vendas_vendedor]\n",
    "\n",
    "    dicionario = {\n",
    "        'Usuario' : vendedor,\n",
    "        'Nome' : nome ,\n",
    "        'Total de Vendas' : total_vendas\n",
    "        \n",
    "    }\n",
    "\n",
    "    df_total_vendas = pd.DataFrame(dicionario)\n",
    "\n",
    "    return df_total_vendas"
   ]
  },
  {
   "cell_type": "code",
   "execution_count": null,
   "metadata": {},
   "outputs": [],
   "source": [
    "# ADICIONE AQUI O VENDEDOR QUE DESEJA PROCURAR\n",
    "vendedor_procurado = 'Daniel'"
   ]
  },
  {
   "cell_type": "code",
   "execution_count": null,
   "metadata": {},
   "outputs": [],
   "source": [
    "consulta_vendedor(df_questao_1, vendedor_procurado)"
   ]
  },
  {
   "cell_type": "markdown",
   "metadata": {},
   "source": [
    "<h3 style=\"font-size:20px\">Abordagem 2</h3>"
   ]
  },
  {
   "cell_type": "code",
   "execution_count": null,
   "metadata": {},
   "outputs": [],
   "source": [
    "def consulta_vendas_por_vendedor(df, vendedor_procurado):\n",
    "    \"\"\" Função retorna todas as vendas executadas por vendedores que possuem o nome igual a vendedor_procurado.\n",
    "\n",
    "    Parâmetros\n",
    "    -------------\n",
    "    df : pandas.DataFrame\n",
    "        Dataframe com os dados dos vendedores\n",
    "    \n",
    "    vendedor_procurado : str\n",
    "        Nome do vendedor a ser procurado\n",
    "    \n",
    "    Retorna\n",
    "    -------------\n",
    "    pandas.DataFrame\n",
    "        Dataframe com todas as vendas executadas pelos vendedores com nome igual a vendedor_procurado.\n",
    "    \"\"\"\n",
    "\n",
    "    return df[df['nome'] == vendedor_procurado]"
   ]
  },
  {
   "cell_type": "code",
   "execution_count": null,
   "metadata": {},
   "outputs": [],
   "source": [
    "# ADICIONE AQUI O VENDEDOR QUE DESEJA PROCURAR\n",
    "vendedor_procurado = 'Daniel'"
   ]
  },
  {
   "cell_type": "code",
   "execution_count": null,
   "metadata": {},
   "outputs": [],
   "source": [
    "consulta_vendas_por_vendedor(df_questao_1, vendedor_procurado)"
   ]
  },
  {
   "cell_type": "markdown",
   "metadata": {},
   "source": [
    " <a id=\"consulta_3\"></a>\n",
    "## Terceira Consulta: produto mais vendido\n",
    "\n",
    "Ranking dos produtos mais vendidos, com a quantidade vendida e o valor total vendido"
   ]
  },
  {
   "cell_type": "code",
   "execution_count": null,
   "metadata": {},
   "outputs": [],
   "source": [
    "def preco_para_int(df, coluna):\n",
    "    \"\"\" Função que transforma uma coluna que possui preços com os caractéres 'R$' em uma coluna de inteiros.\n",
    "\n",
    "    Parâmetros\n",
    "    -------------\n",
    "    df : pandas.DataFrame\n",
    "        Dataframe a ser modificado\n",
    "\n",
    "    coluna : str\n",
    "        Coluna que deseja usar a transformação\n",
    "    \n",
    "    Retorna\n",
    "    -------------\n",
    "    df_result : pandas.DataFrame\n",
    "        Cópia do dataframe passado como parâmetro com a coluna de preços transformada para inteiros.\n",
    "    \"\"\"\n",
    "    df_result = df.copy()\n",
    "    df_result[coluna] = df_result[coluna].replace('[R\\$\\s\\,]', '', regex=True).astype(float)\n",
    "    return df_result"
   ]
  },
  {
   "cell_type": "code",
   "execution_count": null,
   "metadata": {},
   "outputs": [],
   "source": [
    "def top_produtos(df):\n",
    "    \"\"\" Função que retorna um ranking com os produtos mais vendidos no conjunto de dados.\n",
    "\n",
    "    Parâmetros\n",
    "    -------------\n",
    "    df : pandas.DataFrame\n",
    "        Dataframe com os dados dos produtos vendidos\n",
    "    \n",
    "    Retorna\n",
    "    -------------\n",
    "    df_top_produtos : pandas.DataFrame\n",
    "        Dataframe ranking dos produtos mais vendidos.\n",
    "    \"\"\"\n",
    "\n",
    "    produtos = df['produto'].unique()\n",
    "\n",
    "    total_produto = []\n",
    "\n",
    "    for produto in produtos:\n",
    "        total_produto.append((df[df['produto'] == produto]['quantidade'].sum(), \n",
    "                                produto, \n",
    "                                df[df['produto'] == produto]['valor_total'].sum()))\n",
    "\n",
    "    total_produto = sorted(total_produto, key= lambda x: -x[0])\n",
    "\n",
    "    vendas = []\n",
    "    top_produtos = []\n",
    "    valor_total = []\n",
    "\n",
    "    for tup in total_produto:\n",
    "        vendas.append(tup[0])\n",
    "        top_produtos.append(tup[1])\n",
    "        valor_total.append(tup[2])\n",
    "\n",
    "    dic = {\n",
    "        'Produto' : top_produtos,\n",
    "        'Total de Vendas': vendas,\n",
    "        'Valor total' : valor_total\n",
    "    }\n",
    "\n",
    "    df_top_produtos = pd.DataFrame(dic, index=range(1,len(top_produtos)+1))\n",
    "\n",
    "    return df_top_produtos"
   ]
  },
  {
   "cell_type": "code",
   "execution_count": null,
   "metadata": {},
   "outputs": [],
   "source": [
    "df = preco_para_int(df_questao_2, 'valor_total')\n",
    "top_produtos(df)"
   ]
  },
  {
   "cell_type": "markdown",
   "metadata": {},
   "source": [
    "<h1>Consultas Adicionais</h1>\n"
   ]
  },
  {
   "cell_type": "markdown",
   "metadata": {},
   "source": [
    " <a id=\"consulta_4\"></a>\n",
    "## Top 5 vendedores por unidade\n",
    "\n",
    "Nessa seção faremos uma análise comparativa entre dois tipos de rankings: o primeiro sendo formado pelos 5 vendedores que mais tiveram vendas fechadas, ou seja, vendedores que possuem uma maior quantidade de vendas; o segundo ranking é formado pelos 5 vendedores que mais venderam em relação ao valor dos produtos vendidos.\n",
    "\n",
    "A comparação será feita separadamente por unidades"
   ]
  },
  {
   "cell_type": "code",
   "execution_count": null,
   "metadata": {},
   "outputs": [],
   "source": [
    "def gerar_dicionarios(df,tipo):\n",
    "    \"\"\" Função gera um dicionário com top 5 vendedores por unidade baseado ou na quantidade de vendas ou no valor total vendido, dependendo da variável tipo.\n",
    "\n",
    "    Parâmetros\n",
    "    -------------\n",
    "    df : pandas.DataFrame\n",
    "        Dataframe com os dados dos vendedores.\n",
    "    \n",
    "    tipo : str\n",
    "        Qual o tipo de ranking que deseja ser gerado. Se tipo é igual a 'quantidade', o ranking será baseado na quantidade de vendas por vendedor; se tipo igual a 'valor', o ranking será baseado         no valor total obtido das vendas.\n",
    "    \n",
    "    Retorna\n",
    "    -------------\n",
    "    top_5 : dict\n",
    "        Dicionário com outros dicionários aninhados. Cada chave do dicionário representa uma unidade, e a cada unidade tem as informações de usuário, nome, vendas e unidade dos 5 melhores                vendedores\n",
    "    \"\"\"\n",
    "\n",
    "    # Extrai as unidade\n",
    "    unidades = df['Filial'].unique()\n",
    "\n",
    "    # Extrai os vendedores\n",
    "    vendedores = df['usuario'].unique()\n",
    "\n",
    "    top_5 = {}\n",
    "\n",
    "    if(tipo == 'quantidade'):\n",
    "    # Para cada unidade extraia os 5 melhores vendedores baseado em quantidade e adiciona em um dicionário\n",
    "        for unidade in unidades:\n",
    "            df_unidade = df[df['Filial'] == unidade]\n",
    "            top_vendedores = sorted([(df_unidade[df_unidade['usuario'] == vendedor].shape[0], vendedor) for vendedor in vendedores], key=lambda x: -x[0])[:5]\n",
    "\n",
    "            top_5[unidade] = {\n",
    "                'Usuários' : [vendedor[1] for vendedor in top_vendedores],\n",
    "                'Nome' : [df[df['usuario'] == vendedor[1]]['nome'].unique()[0] for vendedor in top_vendedores],\n",
    "                'Total de vendas' : [vendedor[0] for vendedor in top_vendedores],\n",
    "                'Unidade' : [unidade for vendedor in top_vendedores]\n",
    "            }\n",
    "\n",
    "    elif(tipo == 'valor'):\n",
    "    # Para cada unidade extraia os 5 melhores vendedores baseado em valor e adiciona em um dicionário\n",
    "        for unidade in unidades:\n",
    "            df_unidade = df[df['Filial'] == unidade]\n",
    "            top_vendedores = sorted([(df_unidade[df_unidade['usuario'] == vendedor]['valor_compra'].sum(), vendedor) for vendedor in vendedores], key=lambda x: -x[0])[:5]\n",
    "\n",
    "            top_5[unidade] = {\n",
    "                'Usuários' : [vendedor[1] for vendedor in top_vendedores],\n",
    "                'Nome' : [df[df['usuario'] == vendedor[1]]['nome'].unique()[0] for vendedor in top_vendedores],\n",
    "                'Valor total vendido' : [vendedor[0] for vendedor in top_vendedores],\n",
    "                'Unidade' : [unidade for vendedor in top_vendedores]\n",
    "            }\n",
    "    \n",
    "\n",
    "\n",
    "    return top_5"
   ]
  },
  {
   "cell_type": "code",
   "execution_count": null,
   "metadata": {},
   "outputs": [],
   "source": [
    "def top_5_vendedores(df, tipo):\n",
    "    \"\"\" Função gera uma lista com dataframes, cada dataframe tendo informações dos top 5 vendedores de cada unidade. Cada posição na lista é uma unidade diferente.\n",
    "\n",
    "    Parâmetros\n",
    "    -------------\n",
    "    df : pandas.DataFrame\n",
    "        Dataframe com os dados dos vendedores.\n",
    "    \n",
    "    tipo : str\n",
    "        Qual o tipo de ranking que deseja ser gerado. Se tipo é igual a 'quantidade', o ranking será baseado na quantidade de vendas por vendedor; se tipo igual a 'valor', o ranking será baseado         no valor total obtido das vendas.\n",
    "    \n",
    "    Retorna\n",
    "    -------------\n",
    "    list_dfs : list\n",
    "        Lista de DataFrames, na qual cada elemento na lista é contém informações de uma unidade diferente com o top 5 vendedores da unidade e suas informações.\n",
    "    \"\"\"\n",
    "    list_dfs = []\n",
    "    dics = gerar_dicionarios(df, tipo)\n",
    "\n",
    "    chaves = dics.keys()\n",
    "\n",
    "    for chave in chaves:\n",
    "        dic = dics[chave]\n",
    "        df = pd.DataFrame(dic, index=range(1,6))\n",
    "        list_dfs.append(df)\n",
    "\n",
    "    return list_dfs"
   ]
  },
  {
   "cell_type": "code",
   "execution_count": null,
   "metadata": {},
   "outputs": [],
   "source": [
    "df = preco_para_int(df_questao_1, 'valor_compra')\n",
    "list_top_5_valor = top_5_vendedores(df, 'valor')\n",
    "list_top_5_quantidade = top_5_vendedores(df, 'quantidade')"
   ]
  },
  {
   "cell_type": "markdown",
   "metadata": {},
   "source": [
    "<h3 style=\"font-size:20px\">Unidade Armando Mendes</h3>"
   ]
  },
  {
   "cell_type": "code",
   "execution_count": null,
   "metadata": {},
   "outputs": [],
   "source": [
    "print('Maiores vendedores por quantidade: \\n')\n",
    "display(list_top_5_quantidade[0])\n",
    "print('\\n\\n')\n",
    "print('Maiores vendedores por valor do produto: \\n')\n",
    "display(list_top_5_valor[0])"
   ]
  },
  {
   "cell_type": "markdown",
   "metadata": {},
   "source": [
    "<h3 style=\"font-size:20px\">Unidade Manoa</h3>"
   ]
  },
  {
   "cell_type": "code",
   "execution_count": null,
   "metadata": {},
   "outputs": [],
   "source": [
    "print('Maiores vendedores por quantidade: \\n')\n",
    "display(list_top_5_quantidade[1])\n",
    "print('\\n\\n')\n",
    "print('Maiores vendedores por valor do produto: \\n')\n",
    "display(list_top_5_valor[1])"
   ]
  },
  {
   "cell_type": "markdown",
   "metadata": {},
   "source": [
    "<h3 style=\"font-size:20px\">Unidade Cachoeirinha</h3>"
   ]
  },
  {
   "cell_type": "code",
   "execution_count": null,
   "metadata": {},
   "outputs": [],
   "source": [
    "print('Maiores vendedores por quantidade: \\n')\n",
    "display(list_top_5_quantidade[2])\n",
    "print('\\n\\n')\n",
    "print('Maiores vendedores por valor do produto: \\n')\n",
    "display(list_top_5_valor[2])"
   ]
  },
  {
   "cell_type": "markdown",
   "metadata": {},
   "source": [
    "<h3 style=\"font-size:20px\">Análise</h3>\n",
    "\n",
    "Analisando o resultado acima, podemos verificar uma diferença enorme dos vendedores. Na unidade Armando Mendes, apenas Raquel aparece nos dois rankings, sendo a quinta no ranking por quantidade e a primeira no ranking por valor vendido. Enquanto isso, os outros 4 vendedores que mais agregaram receita à empresa não aparecem no top 5 vendedores por quantidade de produtos vendidos. Esse padrão também se repete nas outras unidades, nos indicando que, para definir quem é o melhor vendedor da unidade, mais de uma métrica deve ser analisada e não apenas quantidade de vendas feitas ou valor total vendido."
   ]
  },
  {
   "cell_type": "markdown",
   "metadata": {},
   "source": [
    " <a id=\"consulta_5\"></a>\n",
    "## Média de preço de venda por vendedor\n",
    "\n",
    "Agora, vamos visualizar a média de valor vendido por cada vendedor, e separar essas médias por unidade. Utilizando um boxplot para cada unidade, podemos visualizar a distribuição do valor médio gerado por cada vendedor. Pode-se verificar uma assimetria e uma quantidade de _outliers_ bem grande. Enquanto os 3 quartis de cada boxplot se encontram entre R\\$ 0 e R\\$ 200, exceto o terceiro quartil da unidade Manoa, conseguimos verificar vendedores que se destacam muito chegando a ter uma média de vendas acima de **R\\$ 1000,00**. Podemos também destacar a performance dos vendedores da unidade Manoa em relação às outras unidades. O primeiro quartil se aproxima muito do terceiro quartil da unidade Armando Mendes, mostrando certa superioridade."
   ]
  },
  {
   "cell_type": "code",
   "execution_count": null,
   "metadata": {},
   "outputs": [],
   "source": [
    "def media_vendas_por_unidade(df):\n",
    "    \"\"\" Função gera um dataframe com média de valor das vendas de cada vendedor e a qual unidade aquele vendedor pertence.\n",
    "\n",
    "    Parâmetros\n",
    "    -------------\n",
    "    df : pandas.DataFrame\n",
    "        Dataframe com os dados dos vendedores.\n",
    "    \n",
    "    Retorna\n",
    "    -------------\n",
    "    df_resultado : pandas.DataFrame\n",
    "        Dataframe com a média de valor das vendas de cada vendedor e a unidade que pertence.\n",
    "    \"\"\"\n",
    "    \n",
    "    unidades = df['Filial'].unique()\n",
    "    medias_vendas = []\n",
    "    filiais = []\n",
    "\n",
    "    for unidade in unidades:\n",
    "        df_unidade = df[df['Filial'] == unidade]\n",
    "        vendedores = df_unidade['usuario'].unique()\n",
    "        medias_vendas.extend([df_unidade[df_unidade['usuario'] == vendedor]['valor_compra'].mean() for vendedor in vendedores])\n",
    "        filiais.extend([unidade for vendedor in vendedores])\n",
    "\n",
    "    media_unidade = {\n",
    "        'Média Venda' : medias_vendas,\n",
    "        'Filial' : filiais\n",
    "    }\n",
    "    \n",
    "    df_resultado = pd.DataFrame(media_unidade)\n",
    "\n",
    "    return df_resultado"
   ]
  },
  {
   "cell_type": "code",
   "execution_count": null,
   "metadata": {},
   "outputs": [],
   "source": [
    "df = preco_para_int(df, 'valor_compra')\n",
    "medias = media_vendas_por_unidade(df)"
   ]
  },
  {
   "cell_type": "code",
   "execution_count": null,
   "metadata": {},
   "outputs": [],
   "source": [
    "plt.figure(figsize=(15,7))\n",
    "sns.set_theme(style=\"whitegrid\")\n",
    "sns.boxplot(x='Filial', y='Média Venda', data=medias)"
   ]
  },
  {
   "cell_type": "markdown",
   "metadata": {},
   "source": [
    "<a id=\"consulta_6\"></a>\n",
    "## Total vendido por dia por vendedor\n",
    "\n",
    "Aqui visualizaremos o valor total vendido por determinado vendedor, à nossa escolha, por dia contabilizado no conjunto de dados. Basta inserir o Identificado de Usuário do vendedor no célula abaixo que será plotado seu histórico de vendas."
   ]
  },
  {
   "cell_type": "code",
   "execution_count": null,
   "metadata": {},
   "outputs": [],
   "source": [
    "def vendas_por_mes(df, id_vendedor):\n",
    "    \"\"\"Função gera um dataframe com o valor total vendido diariamente por um vendedor e plota um gráfico com esses valores.\n",
    "\n",
    "    Parâmetros\n",
    "    -------------\n",
    "    df : pandas.DataFrame\n",
    "        Dataframe com os dados dos vendedores.\n",
    "\n",
    "    id_vendedor : int\n",
    "        Número de identificação do vendedor a ser consultado\n",
    "\n",
    "    Retorna\n",
    "    -------------\n",
    "    vendas_diarias : pandas.DataFrame\n",
    "        Dataframe com o total diário de valor vendido do vendedor consultado.\n",
    "    \"\"\"\n",
    "\n",
    "    df_vendedor = df[df['usuario'] == id_vendedor]\n",
    "    df_vendedor['data_compra'] = df_vendedor['data_compra'].apply(lambda line: line.split(' ')[0])\n",
    "\n",
    "    vendas_diarias = df_vendedor.groupby('data_compra', sort=False)['valor_compra'].sum().sort_index().to_frame()\n",
    "\n",
    "    fig = plt.figure(figsize=(20,10))\n",
    "    sns.lineplot(x=vendas_diarias.index, y=vendas_diarias['valor_compra'])\n",
    "    plt.xticks(rotation=45, horizontalalignment='right')\n",
    "    fig.align_labels()\n",
    "\n",
    "    return vendas_diarias"
   ]
  },
  {
   "cell_type": "code",
   "execution_count": null,
   "metadata": {},
   "outputs": [],
   "source": [
    "id_vendedor = 465620 # Número do Usuário a ser buscado"
   ]
  },
  {
   "cell_type": "code",
   "execution_count": null,
   "metadata": {},
   "outputs": [],
   "source": [
    "df = preco_para_int(df_questao_1, 'valor_compra')\n",
    "vendas = vendas_por_mes(df, id_vendedor)"
   ]
  },
  {
   "cell_type": "markdown",
   "metadata": {},
   "source": [
    "<a id=\"consulta_7\"></a>\n",
    "## Vendas por Unidade\n",
    "\n",
    "Faremos aqui mais uma vez uma comparação entre valor gerado e quantidade de vendas, mas nesse caso focando nas unidades da Bemol. O primeiro gráfico mostra a porcentagem que cada unidade possui da quantidade total de vendas feitas pela Bemol, enquanto o segundo gráfico mostra a porcentagem que cada unidade possui do valor total gerado, ou seja, a soma dos preços de todas as vendas. Podemos verificar uma grande diferença nas unidades Armando Mendes e Manoa, enquanto a unidade Cachoeirinha se mantém próximo da mesma porcentagem nos dois gráficos.\n",
    "\n",
    "Embora a unidade Cachoeirinha lidere por 0.1% na quantidade de vendas feitas, essa liderança é perdida no porcentagem de valor gerado, sendo ultrapassada pela unidade Manoa que possui 55.6%, graças, principalmente, ao pouco valor agregado pelas vendas na unidade Armando Mendes. Podemos ver que, na filial Armando Mendes, enquanto sua porcentagem de vendas chega a 22%, sua porcentagem no valor total das vendas é de apenas 11%, mostrando que grande parte de suas vendas têm preço baixo."
   ]
  },
  {
   "cell_type": "code",
   "execution_count": null,
   "metadata": {},
   "outputs": [],
   "source": [
    "def plot_vendas_quantidade(df):\n",
    "    \"\"\" Plota um gráfico com a porcentagem do número total de vendas que cada unidade possui.\n",
    "\n",
    "    Parâmetros\n",
    "    -------------\n",
    "    df : pandas.DataFrame\n",
    "        Dataframe com os dados de vendas.\n",
    "    \n",
    "    Retorna\n",
    "    -------------\n",
    "    \"\"\"\n",
    "    explode = (0, 0.1, 0)\n",
    "    df['Filial'].value_counts().to_frame().sort_index().plot.pie(y='Filial', figsize=(10,10), autopct='%1.1f%%', explode=explode)\n",
    "\n",
    "def plot_vendas_valor(df):\n",
    "    \"\"\" Plota um gráfico com a porcentagem do valor total vendido por cada unidade.\n",
    "\n",
    "    Parâmetros\n",
    "    -------------\n",
    "    df : pandas.DataFrame\n",
    "        Dataframe com os dados de vendas.\n",
    "    \n",
    "    Retorna\n",
    "    -------------\n",
    "    \"\"\"\n",
    "    explode = (0,0,0.1)\n",
    "    preco_para_int(df, 'valor_compra').groupby('Filial', sort=True)['valor_compra'].sum().to_frame().plot.pie(y='valor_compra', figsize=(10,10), autopct='%1.1f%%', explode=explode)"
   ]
  },
  {
   "cell_type": "code",
   "execution_count": null,
   "metadata": {},
   "outputs": [],
   "source": [
    "plot_vendas_quantidade(df_questao_1)"
   ]
  },
  {
   "cell_type": "code",
   "execution_count": null,
   "metadata": {},
   "outputs": [],
   "source": [
    "plot_vendas_valor(df_questao_1)"
   ]
  },
  {
   "cell_type": "code",
   "execution_count": null,
   "metadata": {},
   "outputs": [],
   "source": []
  }
 ],
 "metadata": {
  "kernelspec": {
   "display_name": "Python 3",
   "language": "python",
   "name": "python3"
  },
  "language_info": {
   "codemirror_mode": {
    "name": "ipython",
    "version": 3
   },
   "file_extension": ".py",
   "mimetype": "text/x-python",
   "name": "python",
   "nbconvert_exporter": "python",
   "pygments_lexer": "ipython3",
   "version": "3.8.5"
  }
 },
 "nbformat": 4,
 "nbformat_minor": 2
}