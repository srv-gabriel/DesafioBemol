{
 "metadata": {
  "language_info": {
   "codemirror_mode": {
    "name": "ipython",
    "version": 3
   },
   "file_extension": ".py",
   "mimetype": "text/x-python",
   "name": "python",
   "nbconvert_exporter": "python",
   "pygments_lexer": "ipython3",
   "version": "3.8.5-final"
  },
  "orig_nbformat": 2,
  "kernelspec": {
   "name": "Python 3.8.5 64-bit",
   "display_name": "Python 3.8.5 64-bit",
   "metadata": {
    "interpreter": {
     "hash": "767d51c1340bd893661ea55ea3124f6de3c7a262a8b4abca0554b478b1e2ff90"
    }
   }
  }
 },
 "nbformat": 4,
 "nbformat_minor": 2,
 "cells": [
  {
   "cell_type": "code",
   "execution_count": 1,
   "metadata": {},
   "outputs": [],
   "source": [
    "import pandas as pd"
   ]
  },
  {
   "cell_type": "code",
   "execution_count": 4,
   "metadata": {},
   "outputs": [],
   "source": [
    "df_questao_1 = pd.read_csv('questao_1.csv', index_col='num_compra')\n",
    "df_questao_2 = pd.read_csv('questao_2.csv', index_col='Loja')"
   ]
  },
  {
   "cell_type": "markdown",
   "metadata": {},
   "source": [
    "## Primeira Consulta: Quem mais vendeu em tal unidade\n",
    "\n",
    "Devido a certa ambiguidade na consulta, serão utilizadas duas aborgadens.\n",
    "\n",
    "Abordagem 1: Dada uma unidade como entrada, qual vendedor teve maior número de vendas nela.\n",
    "\n",
    "Abordagem 2: Para cada unidade, qual vendedor teve maior número de vendas.\n",
    "\n",
    "Ideias adicionais:\n",
    "\n",
    "    - Top 5 vendedores por unidade\n",
    "    - Top 5 vendedores por valor de venda"
   ]
  },
  {
   "cell_type": "markdown",
   "metadata": {},
   "source": [
    "### Abordagem 1"
   ]
  },
  {
   "cell_type": "code",
   "execution_count": 112,
   "metadata": {},
   "outputs": [],
   "source": [
    "unidade_consultada = 'Loja Manoa'"
   ]
  },
  {
   "cell_type": "code",
   "execution_count": 113,
   "metadata": {},
   "outputs": [
    {
     "output_type": "execute_result",
     "data": {
      "text/plain": [
       "                  nome  usuario\n",
       "num_compra                     \n",
       "24790283    Alessandra   465620"
      ],
      "text/html": "<div>\n<style scoped>\n    .dataframe tbody tr th:only-of-type {\n        vertical-align: middle;\n    }\n\n    .dataframe tbody tr th {\n        vertical-align: top;\n    }\n\n    .dataframe thead th {\n        text-align: right;\n    }\n</style>\n<table border=\"1\" class=\"dataframe\">\n  <thead>\n    <tr style=\"text-align: right;\">\n      <th></th>\n      <th>nome</th>\n      <th>usuario</th>\n    </tr>\n    <tr>\n      <th>num_compra</th>\n      <th></th>\n      <th></th>\n    </tr>\n  </thead>\n  <tbody>\n    <tr>\n      <th>24790283</th>\n      <td>Alessandra</td>\n      <td>465620</td>\n    </tr>\n  </tbody>\n</table>\n</div>"
     },
     "metadata": {},
     "execution_count": 113
    }
   ],
   "source": [
    "# Seleciono as instâncias correspondentes à unidade solicitada\n",
    "df_unidade = df_questao_1[df_questao_1['Filial'] == unidade_consultada]\n",
    "\n",
    "# Extraio o ID dos vendedores\n",
    "vendedores = df_unidade['usuario'].unique()\n",
    "\n",
    "# Crio uma lista de tuplas no formato (quantidade de vendas do vendedor, ID do vendedor) e ordeno a lista de forma decrescente com base na quantidade de vendas\n",
    "rank = sorted([(df_unidade[df_unidade['usuario'] == vendedor].shape[0], vendedor) for vendedor in vendedores], key=lambda x: -x[0])\n",
    "\n",
    "# Seleciono as colunas de Nome e Usuario que correspondem ao identificador do vendedor que é o primeiro da lista\n",
    "df_unidade[df_unidade['usuario'] == rank[0][1]][['nome', 'usuario']].drop_duplicates()"
   ]
  },
  {
   "cell_type": "markdown",
   "metadata": {},
   "source": [
    "### Abordagem 2"
   ]
  },
  {
   "cell_type": "code",
   "execution_count": 103,
   "metadata": {},
   "outputs": [
    {
     "output_type": "execute_result",
     "data": {
      "text/plain": [
       "array(['Loja Armando Mendes', 'Loja Manoa', 'Loja Cachoerinha'],\n",
       "      dtype=object)"
      ]
     },
     "metadata": {},
     "execution_count": 103
    }
   ],
   "source": []
  },
  {
   "cell_type": "code",
   "execution_count": 114,
   "metadata": {},
   "outputs": [
    {
     "output_type": "execute_result",
     "data": {
      "text/plain": [
       "                  nome  usuario               Filial\n",
       "num_compra                                          \n",
       "24790283    Alessandra   465620           Loja Manoa\n",
       "25455524        Marina   466205  Loja Armando Mendes\n",
       "23599621       Giselle   842680     Loja Cachoerinha"
      ],
      "text/html": "<div>\n<style scoped>\n    .dataframe tbody tr th:only-of-type {\n        vertical-align: middle;\n    }\n\n    .dataframe tbody tr th {\n        vertical-align: top;\n    }\n\n    .dataframe thead th {\n        text-align: right;\n    }\n</style>\n<table border=\"1\" class=\"dataframe\">\n  <thead>\n    <tr style=\"text-align: right;\">\n      <th></th>\n      <th>nome</th>\n      <th>usuario</th>\n      <th>Filial</th>\n    </tr>\n    <tr>\n      <th>num_compra</th>\n      <th></th>\n      <th></th>\n      <th></th>\n    </tr>\n  </thead>\n  <tbody>\n    <tr>\n      <th>24790283</th>\n      <td>Alessandra</td>\n      <td>465620</td>\n      <td>Loja Manoa</td>\n    </tr>\n    <tr>\n      <th>25455524</th>\n      <td>Marina</td>\n      <td>466205</td>\n      <td>Loja Armando Mendes</td>\n    </tr>\n    <tr>\n      <th>23599621</th>\n      <td>Giselle</td>\n      <td>842680</td>\n      <td>Loja Cachoerinha</td>\n    </tr>\n  </tbody>\n</table>\n</div>"
     },
     "metadata": {},
     "execution_count": 114
    }
   ],
   "source": [
    "unidades = df_questao_1['Filial'].unique()\n",
    "vendedores = df_questao_1['usuario'].unique()\n",
    "top_vendedores = []\n",
    "\n",
    "for unidade in unidades:\n",
    "    df_unidade = df_questao_1[df_questao_1['Filial'] == unidade]\n",
    "    top_vendedores.append(sorted([(df_unidade[df_unidade['usuario'] == vendedor].shape[0], vendedor) for vendedor in vendedores], key=lambda x: -x[0])[0][1])\n",
    "\n",
    "df_questao_1[df_questao_1['usuario'].isin(top_vendedores)][['nome', 'usuario', 'Filial']].drop_duplicates()"
   ]
  },
  {
   "cell_type": "markdown",
   "metadata": {},
   "source": [
    "## Segunda Consulta: venda por vendedor(nome)\n",
    "\n",
    "Total de vendas por vendedor. A consulta será feita por nome, porém assumindo que há vendedores com nomes repetidos e que possuem usuários diferentes,\n",
    "será feita uma lista com o total de vendas de cada vendedor com o nome solicitado que possui um usuário diferente.\n"
   ]
  },
  {
   "cell_type": "code",
   "execution_count": 148,
   "metadata": {},
   "outputs": [],
   "source": [
    "vendedor_procurado = 'Daniel'"
   ]
  },
  {
   "cell_type": "code",
   "execution_count": 149,
   "metadata": {},
   "outputs": [],
   "source": [
    "vendedores = df_questao_1[df_questao_1['nome'] == vendedor_procurado]['usuario'].unique()\n",
    "vendas_vendedor = [(df_questao_1[df_questao_1['usuario'] == vendedor].shape[0], vendedor) for vendedor in vendedores]\n",
    "total_vendas = [x[0] for x in vendas_vendedor]\n",
    "vendedor = [x[1] for x in vendas_vendedor]\n",
    "nome = [vendedor_procurado for x in vendas_vendedor]"
   ]
  },
  {
   "cell_type": "code",
   "execution_count": 150,
   "metadata": {},
   "outputs": [],
   "source": [
    "dicionario = {\n",
    "    'Total de Vendas' : total_vendas,\n",
    "    'Vendedor' : vendedor,\n",
    "    'Nome' : nome \n",
    "}"
   ]
  },
  {
   "cell_type": "code",
   "execution_count": 151,
   "metadata": {},
   "outputs": [],
   "source": [
    "df_total_vendas = pd.DataFrame(dicionario)"
   ]
  },
  {
   "cell_type": "code",
   "execution_count": 152,
   "metadata": {},
   "outputs": [
    {
     "output_type": "execute_result",
     "data": {
      "text/plain": [
       "    Total de Vendas  Vendedor    Nome\n",
       "0                 3       295  Daniel\n",
       "1                 3     30646  Daniel\n",
       "2                 1     35553  Daniel\n",
       "3                 1     40859  Daniel\n",
       "4                 9     56424  Daniel\n",
       "5                12     66657  Daniel\n",
       "6                 3    114728  Daniel\n",
       "7                 1    139130  Daniel\n",
       "8                 3    219436  Daniel\n",
       "9                 6    285290  Daniel\n",
       "10                6    287073  Daniel\n",
       "11                2    300326  Daniel\n",
       "12                1    597541  Daniel\n",
       "13                1    617967  Daniel\n",
       "14                7    637896  Daniel\n",
       "15               17    654863  Daniel\n",
       "16                1    658588  Daniel\n",
       "17                1    663398  Daniel\n",
       "18                1    686130  Daniel\n",
       "19                8    702315  Daniel\n",
       "20               12    721483  Daniel\n",
       "21                1    731584  Daniel\n",
       "22                2    834414  Daniel\n",
       "23               25    916961  Daniel\n",
       "24                2    929262  Daniel\n",
       "25                2    961503  Daniel"
      ],
      "text/html": "<div>\n<style scoped>\n    .dataframe tbody tr th:only-of-type {\n        vertical-align: middle;\n    }\n\n    .dataframe tbody tr th {\n        vertical-align: top;\n    }\n\n    .dataframe thead th {\n        text-align: right;\n    }\n</style>\n<table border=\"1\" class=\"dataframe\">\n  <thead>\n    <tr style=\"text-align: right;\">\n      <th></th>\n      <th>Total de Vendas</th>\n      <th>Vendedor</th>\n      <th>Nome</th>\n    </tr>\n  </thead>\n  <tbody>\n    <tr>\n      <th>0</th>\n      <td>3</td>\n      <td>295</td>\n      <td>Daniel</td>\n    </tr>\n    <tr>\n      <th>1</th>\n      <td>3</td>\n      <td>30646</td>\n      <td>Daniel</td>\n    </tr>\n    <tr>\n      <th>2</th>\n      <td>1</td>\n      <td>35553</td>\n      <td>Daniel</td>\n    </tr>\n    <tr>\n      <th>3</th>\n      <td>1</td>\n      <td>40859</td>\n      <td>Daniel</td>\n    </tr>\n    <tr>\n      <th>4</th>\n      <td>9</td>\n      <td>56424</td>\n      <td>Daniel</td>\n    </tr>\n    <tr>\n      <th>5</th>\n      <td>12</td>\n      <td>66657</td>\n      <td>Daniel</td>\n    </tr>\n    <tr>\n      <th>6</th>\n      <td>3</td>\n      <td>114728</td>\n      <td>Daniel</td>\n    </tr>\n    <tr>\n      <th>7</th>\n      <td>1</td>\n      <td>139130</td>\n      <td>Daniel</td>\n    </tr>\n    <tr>\n      <th>8</th>\n      <td>3</td>\n      <td>219436</td>\n      <td>Daniel</td>\n    </tr>\n    <tr>\n      <th>9</th>\n      <td>6</td>\n      <td>285290</td>\n      <td>Daniel</td>\n    </tr>\n    <tr>\n      <th>10</th>\n      <td>6</td>\n      <td>287073</td>\n      <td>Daniel</td>\n    </tr>\n    <tr>\n      <th>11</th>\n      <td>2</td>\n      <td>300326</td>\n      <td>Daniel</td>\n    </tr>\n    <tr>\n      <th>12</th>\n      <td>1</td>\n      <td>597541</td>\n      <td>Daniel</td>\n    </tr>\n    <tr>\n      <th>13</th>\n      <td>1</td>\n      <td>617967</td>\n      <td>Daniel</td>\n    </tr>\n    <tr>\n      <th>14</th>\n      <td>7</td>\n      <td>637896</td>\n      <td>Daniel</td>\n    </tr>\n    <tr>\n      <th>15</th>\n      <td>17</td>\n      <td>654863</td>\n      <td>Daniel</td>\n    </tr>\n    <tr>\n      <th>16</th>\n      <td>1</td>\n      <td>658588</td>\n      <td>Daniel</td>\n    </tr>\n    <tr>\n      <th>17</th>\n      <td>1</td>\n      <td>663398</td>\n      <td>Daniel</td>\n    </tr>\n    <tr>\n      <th>18</th>\n      <td>1</td>\n      <td>686130</td>\n      <td>Daniel</td>\n    </tr>\n    <tr>\n      <th>19</th>\n      <td>8</td>\n      <td>702315</td>\n      <td>Daniel</td>\n    </tr>\n    <tr>\n      <th>20</th>\n      <td>12</td>\n      <td>721483</td>\n      <td>Daniel</td>\n    </tr>\n    <tr>\n      <th>21</th>\n      <td>1</td>\n      <td>731584</td>\n      <td>Daniel</td>\n    </tr>\n    <tr>\n      <th>22</th>\n      <td>2</td>\n      <td>834414</td>\n      <td>Daniel</td>\n    </tr>\n    <tr>\n      <th>23</th>\n      <td>25</td>\n      <td>916961</td>\n      <td>Daniel</td>\n    </tr>\n    <tr>\n      <th>24</th>\n      <td>2</td>\n      <td>929262</td>\n      <td>Daniel</td>\n    </tr>\n    <tr>\n      <th>25</th>\n      <td>2</td>\n      <td>961503</td>\n      <td>Daniel</td>\n    </tr>\n  </tbody>\n</table>\n</div>"
     },
     "metadata": {},
     "execution_count": 152
    }
   ],
   "source": [
    "df_total_vendas"
   ]
  },
  {
   "cell_type": "markdown",
   "metadata": {},
   "source": [
    "## Terceira Consulta: produto mais vendido"
   ]
  },
  {
   "cell_type": "code",
   "execution_count": null,
   "metadata": {},
   "outputs": [],
   "source": []
  }
 ]
}